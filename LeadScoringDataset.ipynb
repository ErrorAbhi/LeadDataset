{
 "cells": [
  {
   "cell_type": "markdown",
   "id": "c4db515b-2708-48a6-a0b5-1ea9b4befaf5",
   "metadata": {},
   "source": [
    "### Importing Necessary Libraries"
   ]
  },
  {
   "cell_type": "code",
   "execution_count": 1,
   "id": "75c749ca-ad0f-4585-829b-5e9d364b0f8b",
   "metadata": {},
   "outputs": [],
   "source": [
    "import pandas as pd\n",
    "import numpy as np\n",
    "import matplotlib.pyplot as plt\n",
    "import seaborn as sns"
   ]
  },
  {
   "cell_type": "markdown",
   "id": "89de1eca-ec79-4d91-98d9-5aee3852b40e",
   "metadata": {},
   "source": [
    "### Reading the Dataset"
   ]
  },
  {
   "cell_type": "code",
   "execution_count": 2,
   "id": "6bece7af-79b7-45f0-8145-8aecc12b8837",
   "metadata": {},
   "outputs": [],
   "source": [
    "df = pd.read_csv(r'Leads.csv')"
   ]
  },
  {
   "cell_type": "markdown",
   "id": "d58ee86a-94c9-44cb-b47a-70e9a088ab9c",
   "metadata": {},
   "source": [
    "### Inspection of Dataset"
   ]
  },
  {
   "cell_type": "code",
   "execution_count": 3,
   "id": "727cd063-deb0-488d-a413-2690a2dadc2f",
   "metadata": {},
   "outputs": [
    {
     "data": {
      "text/html": [
       "<div>\n",
       "<style scoped>\n",
       "    .dataframe tbody tr th:only-of-type {\n",
       "        vertical-align: middle;\n",
       "    }\n",
       "\n",
       "    .dataframe tbody tr th {\n",
       "        vertical-align: top;\n",
       "    }\n",
       "\n",
       "    .dataframe thead th {\n",
       "        text-align: right;\n",
       "    }\n",
       "</style>\n",
       "<table border=\"1\" class=\"dataframe\">\n",
       "  <thead>\n",
       "    <tr style=\"text-align: right;\">\n",
       "      <th></th>\n",
       "      <th>Prospect ID</th>\n",
       "      <th>Lead Number</th>\n",
       "      <th>Lead Origin</th>\n",
       "      <th>Lead Source</th>\n",
       "      <th>Do Not Email</th>\n",
       "      <th>Do Not Call</th>\n",
       "      <th>Converted</th>\n",
       "      <th>TotalVisits</th>\n",
       "      <th>Total Time Spent on Website</th>\n",
       "      <th>Page Views Per Visit</th>\n",
       "      <th>...</th>\n",
       "      <th>Get updates on DM Content</th>\n",
       "      <th>Lead Profile</th>\n",
       "      <th>City</th>\n",
       "      <th>Asymmetrique Activity Index</th>\n",
       "      <th>Asymmetrique Profile Index</th>\n",
       "      <th>Asymmetrique Activity Score</th>\n",
       "      <th>Asymmetrique Profile Score</th>\n",
       "      <th>I agree to pay the amount through cheque</th>\n",
       "      <th>A free copy of Mastering The Interview</th>\n",
       "      <th>Last Notable Activity</th>\n",
       "    </tr>\n",
       "  </thead>\n",
       "  <tbody>\n",
       "    <tr>\n",
       "      <th>0</th>\n",
       "      <td>7927b2df-8bba-4d29-b9a2-b6e0beafe620</td>\n",
       "      <td>660737</td>\n",
       "      <td>API</td>\n",
       "      <td>Olark Chat</td>\n",
       "      <td>No</td>\n",
       "      <td>No</td>\n",
       "      <td>0</td>\n",
       "      <td>0.0</td>\n",
       "      <td>0</td>\n",
       "      <td>0.0</td>\n",
       "      <td>...</td>\n",
       "      <td>No</td>\n",
       "      <td>Select</td>\n",
       "      <td>Select</td>\n",
       "      <td>02.Medium</td>\n",
       "      <td>02.Medium</td>\n",
       "      <td>15.0</td>\n",
       "      <td>15.0</td>\n",
       "      <td>No</td>\n",
       "      <td>No</td>\n",
       "      <td>Modified</td>\n",
       "    </tr>\n",
       "    <tr>\n",
       "      <th>1</th>\n",
       "      <td>2a272436-5132-4136-86fa-dcc88c88f482</td>\n",
       "      <td>660728</td>\n",
       "      <td>API</td>\n",
       "      <td>Organic Search</td>\n",
       "      <td>No</td>\n",
       "      <td>No</td>\n",
       "      <td>0</td>\n",
       "      <td>5.0</td>\n",
       "      <td>674</td>\n",
       "      <td>2.5</td>\n",
       "      <td>...</td>\n",
       "      <td>No</td>\n",
       "      <td>Select</td>\n",
       "      <td>Select</td>\n",
       "      <td>02.Medium</td>\n",
       "      <td>02.Medium</td>\n",
       "      <td>15.0</td>\n",
       "      <td>15.0</td>\n",
       "      <td>No</td>\n",
       "      <td>No</td>\n",
       "      <td>Email Opened</td>\n",
       "    </tr>\n",
       "    <tr>\n",
       "      <th>2</th>\n",
       "      <td>8cc8c611-a219-4f35-ad23-fdfd2656bd8a</td>\n",
       "      <td>660727</td>\n",
       "      <td>Landing Page Submission</td>\n",
       "      <td>Direct Traffic</td>\n",
       "      <td>No</td>\n",
       "      <td>No</td>\n",
       "      <td>1</td>\n",
       "      <td>2.0</td>\n",
       "      <td>1532</td>\n",
       "      <td>2.0</td>\n",
       "      <td>...</td>\n",
       "      <td>No</td>\n",
       "      <td>Potential Lead</td>\n",
       "      <td>Mumbai</td>\n",
       "      <td>02.Medium</td>\n",
       "      <td>01.High</td>\n",
       "      <td>14.0</td>\n",
       "      <td>20.0</td>\n",
       "      <td>No</td>\n",
       "      <td>Yes</td>\n",
       "      <td>Email Opened</td>\n",
       "    </tr>\n",
       "    <tr>\n",
       "      <th>3</th>\n",
       "      <td>0cc2df48-7cf4-4e39-9de9-19797f9b38cc</td>\n",
       "      <td>660719</td>\n",
       "      <td>Landing Page Submission</td>\n",
       "      <td>Direct Traffic</td>\n",
       "      <td>No</td>\n",
       "      <td>No</td>\n",
       "      <td>0</td>\n",
       "      <td>1.0</td>\n",
       "      <td>305</td>\n",
       "      <td>1.0</td>\n",
       "      <td>...</td>\n",
       "      <td>No</td>\n",
       "      <td>Select</td>\n",
       "      <td>Mumbai</td>\n",
       "      <td>02.Medium</td>\n",
       "      <td>01.High</td>\n",
       "      <td>13.0</td>\n",
       "      <td>17.0</td>\n",
       "      <td>No</td>\n",
       "      <td>No</td>\n",
       "      <td>Modified</td>\n",
       "    </tr>\n",
       "    <tr>\n",
       "      <th>4</th>\n",
       "      <td>3256f628-e534-4826-9d63-4a8b88782852</td>\n",
       "      <td>660681</td>\n",
       "      <td>Landing Page Submission</td>\n",
       "      <td>Google</td>\n",
       "      <td>No</td>\n",
       "      <td>No</td>\n",
       "      <td>1</td>\n",
       "      <td>2.0</td>\n",
       "      <td>1428</td>\n",
       "      <td>1.0</td>\n",
       "      <td>...</td>\n",
       "      <td>No</td>\n",
       "      <td>Select</td>\n",
       "      <td>Mumbai</td>\n",
       "      <td>02.Medium</td>\n",
       "      <td>01.High</td>\n",
       "      <td>15.0</td>\n",
       "      <td>18.0</td>\n",
       "      <td>No</td>\n",
       "      <td>No</td>\n",
       "      <td>Modified</td>\n",
       "    </tr>\n",
       "  </tbody>\n",
       "</table>\n",
       "<p>5 rows × 37 columns</p>\n",
       "</div>"
      ],
      "text/plain": [
       "                            Prospect ID  Lead Number              Lead Origin  \\\n",
       "0  7927b2df-8bba-4d29-b9a2-b6e0beafe620       660737                      API   \n",
       "1  2a272436-5132-4136-86fa-dcc88c88f482       660728                      API   \n",
       "2  8cc8c611-a219-4f35-ad23-fdfd2656bd8a       660727  Landing Page Submission   \n",
       "3  0cc2df48-7cf4-4e39-9de9-19797f9b38cc       660719  Landing Page Submission   \n",
       "4  3256f628-e534-4826-9d63-4a8b88782852       660681  Landing Page Submission   \n",
       "\n",
       "      Lead Source Do Not Email Do Not Call  Converted  TotalVisits  \\\n",
       "0      Olark Chat           No          No          0          0.0   \n",
       "1  Organic Search           No          No          0          5.0   \n",
       "2  Direct Traffic           No          No          1          2.0   \n",
       "3  Direct Traffic           No          No          0          1.0   \n",
       "4          Google           No          No          1          2.0   \n",
       "\n",
       "   Total Time Spent on Website  Page Views Per Visit  ...  \\\n",
       "0                            0                   0.0  ...   \n",
       "1                          674                   2.5  ...   \n",
       "2                         1532                   2.0  ...   \n",
       "3                          305                   1.0  ...   \n",
       "4                         1428                   1.0  ...   \n",
       "\n",
       "  Get updates on DM Content    Lead Profile    City  \\\n",
       "0                        No          Select  Select   \n",
       "1                        No          Select  Select   \n",
       "2                        No  Potential Lead  Mumbai   \n",
       "3                        No          Select  Mumbai   \n",
       "4                        No          Select  Mumbai   \n",
       "\n",
       "  Asymmetrique Activity Index Asymmetrique Profile Index  \\\n",
       "0                   02.Medium                  02.Medium   \n",
       "1                   02.Medium                  02.Medium   \n",
       "2                   02.Medium                    01.High   \n",
       "3                   02.Medium                    01.High   \n",
       "4                   02.Medium                    01.High   \n",
       "\n",
       "  Asymmetrique Activity Score Asymmetrique Profile Score  \\\n",
       "0                        15.0                       15.0   \n",
       "1                        15.0                       15.0   \n",
       "2                        14.0                       20.0   \n",
       "3                        13.0                       17.0   \n",
       "4                        15.0                       18.0   \n",
       "\n",
       "  I agree to pay the amount through cheque  \\\n",
       "0                                       No   \n",
       "1                                       No   \n",
       "2                                       No   \n",
       "3                                       No   \n",
       "4                                       No   \n",
       "\n",
       "  A free copy of Mastering The Interview Last Notable Activity  \n",
       "0                                     No              Modified  \n",
       "1                                     No          Email Opened  \n",
       "2                                    Yes          Email Opened  \n",
       "3                                     No              Modified  \n",
       "4                                     No              Modified  \n",
       "\n",
       "[5 rows x 37 columns]"
      ]
     },
     "execution_count": 3,
     "metadata": {},
     "output_type": "execute_result"
    }
   ],
   "source": [
    "# to know the dataset\n",
    "df.head()"
   ]
  },
  {
   "cell_type": "code",
   "execution_count": 4,
   "id": "938efbe6-c6a7-4381-864f-4f66e1832ddb",
   "metadata": {},
   "outputs": [
    {
     "data": {
      "text/plain": [
       "(9240, 37)"
      ]
     },
     "execution_count": 4,
     "metadata": {},
     "output_type": "execute_result"
    }
   ],
   "source": [
    "# to know the shape of dataset / # of rows and # of columns\n",
    "df.shape"
   ]
  },
  {
   "cell_type": "code",
   "execution_count": 5,
   "id": "76c34b83-6543-40e7-9300-c24bf12385b0",
   "metadata": {},
   "outputs": [
    {
     "name": "stdout",
     "output_type": "stream",
     "text": [
      "<class 'pandas.core.frame.DataFrame'>\n",
      "RangeIndex: 9240 entries, 0 to 9239\n",
      "Data columns (total 37 columns):\n",
      " #   Column                                         Non-Null Count  Dtype  \n",
      "---  ------                                         --------------  -----  \n",
      " 0   Prospect ID                                    9240 non-null   object \n",
      " 1   Lead Number                                    9240 non-null   int64  \n",
      " 2   Lead Origin                                    9240 non-null   object \n",
      " 3   Lead Source                                    9204 non-null   object \n",
      " 4   Do Not Email                                   9240 non-null   object \n",
      " 5   Do Not Call                                    9240 non-null   object \n",
      " 6   Converted                                      9240 non-null   int64  \n",
      " 7   TotalVisits                                    9103 non-null   float64\n",
      " 8   Total Time Spent on Website                    9240 non-null   int64  \n",
      " 9   Page Views Per Visit                           9103 non-null   float64\n",
      " 10  Last Activity                                  9137 non-null   object \n",
      " 11  Country                                        6779 non-null   object \n",
      " 12  Specialization                                 7802 non-null   object \n",
      " 13  How did you hear about X Education             7033 non-null   object \n",
      " 14  What is your current occupation                6550 non-null   object \n",
      " 15  What matters most to you in choosing a course  6531 non-null   object \n",
      " 16  Search                                         9240 non-null   object \n",
      " 17  Magazine                                       9240 non-null   object \n",
      " 18  Newspaper Article                              9240 non-null   object \n",
      " 19  X Education Forums                             9240 non-null   object \n",
      " 20  Newspaper                                      9240 non-null   object \n",
      " 21  Digital Advertisement                          9240 non-null   object \n",
      " 22  Through Recommendations                        9240 non-null   object \n",
      " 23  Receive More Updates About Our Courses         9240 non-null   object \n",
      " 24  Tags                                           5887 non-null   object \n",
      " 25  Lead Quality                                   4473 non-null   object \n",
      " 26  Update me on Supply Chain Content              9240 non-null   object \n",
      " 27  Get updates on DM Content                      9240 non-null   object \n",
      " 28  Lead Profile                                   6531 non-null   object \n",
      " 29  City                                           7820 non-null   object \n",
      " 30  Asymmetrique Activity Index                    5022 non-null   object \n",
      " 31  Asymmetrique Profile Index                     5022 non-null   object \n",
      " 32  Asymmetrique Activity Score                    5022 non-null   float64\n",
      " 33  Asymmetrique Profile Score                     5022 non-null   float64\n",
      " 34  I agree to pay the amount through cheque       9240 non-null   object \n",
      " 35  A free copy of Mastering The Interview         9240 non-null   object \n",
      " 36  Last Notable Activity                          9240 non-null   object \n",
      "dtypes: float64(4), int64(3), object(30)\n",
      "memory usage: 2.6+ MB\n"
     ]
    }
   ],
   "source": [
    "# to know the datatypes and null in every columns\n",
    "df.info()"
   ]
  },
  {
   "cell_type": "code",
   "execution_count": 6,
   "id": "3251c308-9d26-4d9a-b478-40511988b14e",
   "metadata": {},
   "outputs": [
    {
     "data": {
      "text/html": [
       "<div>\n",
       "<style scoped>\n",
       "    .dataframe tbody tr th:only-of-type {\n",
       "        vertical-align: middle;\n",
       "    }\n",
       "\n",
       "    .dataframe tbody tr th {\n",
       "        vertical-align: top;\n",
       "    }\n",
       "\n",
       "    .dataframe thead th {\n",
       "        text-align: right;\n",
       "    }\n",
       "</style>\n",
       "<table border=\"1\" class=\"dataframe\">\n",
       "  <thead>\n",
       "    <tr style=\"text-align: right;\">\n",
       "      <th></th>\n",
       "      <th>Lead Number</th>\n",
       "      <th>Converted</th>\n",
       "      <th>TotalVisits</th>\n",
       "      <th>Total Time Spent on Website</th>\n",
       "      <th>Page Views Per Visit</th>\n",
       "      <th>Asymmetrique Activity Score</th>\n",
       "      <th>Asymmetrique Profile Score</th>\n",
       "    </tr>\n",
       "  </thead>\n",
       "  <tbody>\n",
       "    <tr>\n",
       "      <th>count</th>\n",
       "      <td>9240.000000</td>\n",
       "      <td>9240.000000</td>\n",
       "      <td>9103.000000</td>\n",
       "      <td>9240.000000</td>\n",
       "      <td>9103.000000</td>\n",
       "      <td>5022.000000</td>\n",
       "      <td>5022.000000</td>\n",
       "    </tr>\n",
       "    <tr>\n",
       "      <th>mean</th>\n",
       "      <td>617188.435606</td>\n",
       "      <td>0.385390</td>\n",
       "      <td>3.445238</td>\n",
       "      <td>487.698268</td>\n",
       "      <td>2.362820</td>\n",
       "      <td>14.306252</td>\n",
       "      <td>16.344883</td>\n",
       "    </tr>\n",
       "    <tr>\n",
       "      <th>std</th>\n",
       "      <td>23405.995698</td>\n",
       "      <td>0.486714</td>\n",
       "      <td>4.854853</td>\n",
       "      <td>548.021466</td>\n",
       "      <td>2.161418</td>\n",
       "      <td>1.386694</td>\n",
       "      <td>1.811395</td>\n",
       "    </tr>\n",
       "    <tr>\n",
       "      <th>min</th>\n",
       "      <td>579533.000000</td>\n",
       "      <td>0.000000</td>\n",
       "      <td>0.000000</td>\n",
       "      <td>0.000000</td>\n",
       "      <td>0.000000</td>\n",
       "      <td>7.000000</td>\n",
       "      <td>11.000000</td>\n",
       "    </tr>\n",
       "    <tr>\n",
       "      <th>25%</th>\n",
       "      <td>596484.500000</td>\n",
       "      <td>0.000000</td>\n",
       "      <td>1.000000</td>\n",
       "      <td>12.000000</td>\n",
       "      <td>1.000000</td>\n",
       "      <td>14.000000</td>\n",
       "      <td>15.000000</td>\n",
       "    </tr>\n",
       "    <tr>\n",
       "      <th>50%</th>\n",
       "      <td>615479.000000</td>\n",
       "      <td>0.000000</td>\n",
       "      <td>3.000000</td>\n",
       "      <td>248.000000</td>\n",
       "      <td>2.000000</td>\n",
       "      <td>14.000000</td>\n",
       "      <td>16.000000</td>\n",
       "    </tr>\n",
       "    <tr>\n",
       "      <th>75%</th>\n",
       "      <td>637387.250000</td>\n",
       "      <td>1.000000</td>\n",
       "      <td>5.000000</td>\n",
       "      <td>936.000000</td>\n",
       "      <td>3.000000</td>\n",
       "      <td>15.000000</td>\n",
       "      <td>18.000000</td>\n",
       "    </tr>\n",
       "    <tr>\n",
       "      <th>max</th>\n",
       "      <td>660737.000000</td>\n",
       "      <td>1.000000</td>\n",
       "      <td>251.000000</td>\n",
       "      <td>2272.000000</td>\n",
       "      <td>55.000000</td>\n",
       "      <td>18.000000</td>\n",
       "      <td>20.000000</td>\n",
       "    </tr>\n",
       "  </tbody>\n",
       "</table>\n",
       "</div>"
      ],
      "text/plain": [
       "         Lead Number    Converted  TotalVisits  Total Time Spent on Website  \\\n",
       "count    9240.000000  9240.000000  9103.000000                  9240.000000   \n",
       "mean   617188.435606     0.385390     3.445238                   487.698268   \n",
       "std     23405.995698     0.486714     4.854853                   548.021466   \n",
       "min    579533.000000     0.000000     0.000000                     0.000000   \n",
       "25%    596484.500000     0.000000     1.000000                    12.000000   \n",
       "50%    615479.000000     0.000000     3.000000                   248.000000   \n",
       "75%    637387.250000     1.000000     5.000000                   936.000000   \n",
       "max    660737.000000     1.000000   251.000000                  2272.000000   \n",
       "\n",
       "       Page Views Per Visit  Asymmetrique Activity Score  \\\n",
       "count           9103.000000                  5022.000000   \n",
       "mean               2.362820                    14.306252   \n",
       "std                2.161418                     1.386694   \n",
       "min                0.000000                     7.000000   \n",
       "25%                1.000000                    14.000000   \n",
       "50%                2.000000                    14.000000   \n",
       "75%                3.000000                    15.000000   \n",
       "max               55.000000                    18.000000   \n",
       "\n",
       "       Asymmetrique Profile Score  \n",
       "count                 5022.000000  \n",
       "mean                    16.344883  \n",
       "std                      1.811395  \n",
       "min                     11.000000  \n",
       "25%                     15.000000  \n",
       "50%                     16.000000  \n",
       "75%                     18.000000  \n",
       "max                     20.000000  "
      ]
     },
     "execution_count": 6,
     "metadata": {},
     "output_type": "execute_result"
    }
   ],
   "source": [
    "# for descriptive analysis of the dataset\n",
    "df.describe()"
   ]
  },
  {
   "cell_type": "markdown",
   "id": "059f5d49-88c6-4f54-8c67-aeb52824375d",
   "metadata": {},
   "source": [
    "### Cleaning the dataframe (Data Engineering)\n",
    "\n",
    "**Handling Missing Values**\n",
    "\n",
    "**Data Preparation ( Cleaning, handling missing values, outliers, Encoding,value_counts, change in format etc.**"
   ]
  },
  {
   "cell_type": "code",
   "execution_count": 7,
   "id": "db12fa97-6c8b-48bf-a8da-454098175a96",
   "metadata": {},
   "outputs": [
    {
     "data": {
      "text/plain": [
       "Prospect ID                                         0\n",
       "Lead Number                                         0\n",
       "Lead Origin                                         0\n",
       "Lead Source                                        36\n",
       "Do Not Email                                        0\n",
       "Do Not Call                                         0\n",
       "Converted                                           0\n",
       "TotalVisits                                       137\n",
       "Total Time Spent on Website                         0\n",
       "Page Views Per Visit                              137\n",
       "Last Activity                                     103\n",
       "Country                                          2461\n",
       "Specialization                                   1438\n",
       "How did you hear about X Education               2207\n",
       "What is your current occupation                  2690\n",
       "What matters most to you in choosing a course    2709\n",
       "Search                                              0\n",
       "Magazine                                            0\n",
       "Newspaper Article                                   0\n",
       "X Education Forums                                  0\n",
       "Newspaper                                           0\n",
       "Digital Advertisement                               0\n",
       "Through Recommendations                             0\n",
       "Receive More Updates About Our Courses              0\n",
       "Tags                                             3353\n",
       "Lead Quality                                     4767\n",
       "Update me on Supply Chain Content                   0\n",
       "Get updates on DM Content                           0\n",
       "Lead Profile                                     2709\n",
       "City                                             1420\n",
       "Asymmetrique Activity Index                      4218\n",
       "Asymmetrique Profile Index                       4218\n",
       "Asymmetrique Activity Score                      4218\n",
       "Asymmetrique Profile Score                       4218\n",
       "I agree to pay the amount through cheque            0\n",
       "A free copy of Mastering The Interview              0\n",
       "Last Notable Activity                               0\n",
       "dtype: int64"
      ]
     },
     "execution_count": 7,
     "metadata": {},
     "output_type": "execute_result"
    }
   ],
   "source": [
    "# to know how many null values are present in every columns\n",
    "df.isnull().sum()"
   ]
  },
  {
   "cell_type": "code",
   "execution_count": 8,
   "id": "73176f16-3d12-4566-b44c-c842056f2b66",
   "metadata": {},
   "outputs": [
    {
     "data": {
      "text/plain": [
       "Prospect ID                                       0.00\n",
       "Lead Number                                       0.00\n",
       "Lead Origin                                       0.00\n",
       "Lead Source                                       0.39\n",
       "Do Not Email                                      0.00\n",
       "Do Not Call                                       0.00\n",
       "Converted                                         0.00\n",
       "TotalVisits                                       1.48\n",
       "Total Time Spent on Website                       0.00\n",
       "Page Views Per Visit                              1.48\n",
       "Last Activity                                     1.11\n",
       "Country                                          26.63\n",
       "Specialization                                   15.56\n",
       "How did you hear about X Education               23.89\n",
       "What is your current occupation                  29.11\n",
       "What matters most to you in choosing a course    29.32\n",
       "Search                                            0.00\n",
       "Magazine                                          0.00\n",
       "Newspaper Article                                 0.00\n",
       "X Education Forums                                0.00\n",
       "Newspaper                                         0.00\n",
       "Digital Advertisement                             0.00\n",
       "Through Recommendations                           0.00\n",
       "Receive More Updates About Our Courses            0.00\n",
       "Tags                                             36.29\n",
       "Lead Quality                                     51.59\n",
       "Update me on Supply Chain Content                 0.00\n",
       "Get updates on DM Content                         0.00\n",
       "Lead Profile                                     29.32\n",
       "City                                             15.37\n",
       "Asymmetrique Activity Index                      45.65\n",
       "Asymmetrique Profile Index                       45.65\n",
       "Asymmetrique Activity Score                      45.65\n",
       "Asymmetrique Profile Score                       45.65\n",
       "I agree to pay the amount through cheque          0.00\n",
       "A free copy of Mastering The Interview            0.00\n",
       "Last Notable Activity                             0.00\n",
       "dtype: float64"
      ]
     },
     "execution_count": 8,
     "metadata": {},
     "output_type": "execute_result"
    }
   ],
   "source": [
    "# to know how many null values are present in every columns in terms of percentage\n",
    "round(df.isnull().sum()/len(df)*100,2)"
   ]
  },
  {
   "cell_type": "markdown",
   "id": "abefed2d-2c45-4fe4-b7f2-082a565b0148",
   "metadata": {},
   "source": [
    "##### **`As we know we can't create a model with null values we need to remove all null values from the dataset`**\n",
    "##### **`let's start inspecting each column one by one with containing null values`**"
   ]
  },
  {
   "cell_type": "code",
   "execution_count": 9,
   "id": "84376c67-37c9-49ee-b274-84aa2b5076fa",
   "metadata": {},
   "outputs": [
    {
     "data": {
      "text/plain": [
       "Country\n",
       "India                   6492\n",
       "United States             69\n",
       "United Arab Emirates      53\n",
       "Singapore                 24\n",
       "Saudi Arabia              21\n",
       "United Kingdom            15\n",
       "Australia                 13\n",
       "Qatar                     10\n",
       "Hong Kong                  7\n",
       "Bahrain                    7\n",
       "Oman                       6\n",
       "France                     6\n",
       "unknown                    5\n",
       "South Africa               4\n",
       "Nigeria                    4\n",
       "Germany                    4\n",
       "Kuwait                     4\n",
       "Canada                     4\n",
       "Sweden                     3\n",
       "China                      2\n",
       "Asia/Pacific Region        2\n",
       "Uganda                     2\n",
       "Bangladesh                 2\n",
       "Italy                      2\n",
       "Belgium                    2\n",
       "Netherlands                2\n",
       "Ghana                      2\n",
       "Philippines                2\n",
       "Russia                     1\n",
       "Switzerland                1\n",
       "Vietnam                    1\n",
       "Denmark                    1\n",
       "Tanzania                   1\n",
       "Liberia                    1\n",
       "Malaysia                   1\n",
       "Kenya                      1\n",
       "Sri Lanka                  1\n",
       "Indonesia                  1\n",
       "Name: count, dtype: int64"
      ]
     },
     "execution_count": 9,
     "metadata": {},
     "output_type": "execute_result"
    }
   ],
   "source": [
    "df['Country'].value_counts() # 26.63 null values are present in this column so I'am going to replace all nulls into 'Select'"
   ]
  },
  {
   "cell_type": "code",
   "execution_count": 10,
   "id": "0377784f-13b5-4ce7-a910-39f2649e43af",
   "metadata": {},
   "outputs": [],
   "source": [
    "df['Country'].replace(np.nan,'Select', inplace=True)"
   ]
  },
  {
   "cell_type": "code",
   "execution_count": 11,
   "id": "7dd572b8-3439-4467-948f-ab66cda24345",
   "metadata": {},
   "outputs": [
    {
     "data": {
      "text/plain": [
       "Country\n",
       "India                   6492\n",
       "Select                  2461\n",
       "United States             69\n",
       "United Arab Emirates      53\n",
       "Singapore                 24\n",
       "Saudi Arabia              21\n",
       "United Kingdom            15\n",
       "Australia                 13\n",
       "Qatar                     10\n",
       "Bahrain                    7\n",
       "Hong Kong                  7\n",
       "Oman                       6\n",
       "France                     6\n",
       "unknown                    5\n",
       "Kuwait                     4\n",
       "South Africa               4\n",
       "Canada                     4\n",
       "Nigeria                    4\n",
       "Germany                    4\n",
       "Sweden                     3\n",
       "Philippines                2\n",
       "Uganda                     2\n",
       "Italy                      2\n",
       "Bangladesh                 2\n",
       "Netherlands                2\n",
       "Asia/Pacific Region        2\n",
       "China                      2\n",
       "Belgium                    2\n",
       "Ghana                      2\n",
       "Kenya                      1\n",
       "Sri Lanka                  1\n",
       "Tanzania                   1\n",
       "Malaysia                   1\n",
       "Liberia                    1\n",
       "Switzerland                1\n",
       "Denmark                    1\n",
       "Russia                     1\n",
       "Vietnam                    1\n",
       "Indonesia                  1\n",
       "Name: count, dtype: int64"
      ]
     },
     "execution_count": 11,
     "metadata": {},
     "output_type": "execute_result"
    }
   ],
   "source": [
    "df['Country'].value_counts()"
   ]
  },
  {
   "cell_type": "code",
   "execution_count": 12,
   "id": "1441fef7-d309-4360-b704-26577c7c9221",
   "metadata": {},
   "outputs": [],
   "source": [
    "df['Specialization'].replace(np.nan,'Select', inplace=True)  # 15.56 null values are present in this column"
   ]
  },
  {
   "cell_type": "code",
   "execution_count": 13,
   "id": "6f02d234-66f2-4e47-aee9-76d997bfcdb4",
   "metadata": {},
   "outputs": [],
   "source": [
    "df['How did you hear about X Education'].replace(np.nan,'Select', inplace=True)  # 23.89 null values are present in this column"
   ]
  },
  {
   "cell_type": "code",
   "execution_count": 14,
   "id": "842ee62f-420d-4a05-a471-06d08a7b5f54",
   "metadata": {},
   "outputs": [],
   "source": [
    "df['What is your current occupation'].replace(np.nan,'Select', inplace=True)  # 29.11 null values are present in this column"
   ]
  },
  {
   "cell_type": "code",
   "execution_count": 15,
   "id": "2507ce8c-9edb-4853-9c64-66d26c515716",
   "metadata": {},
   "outputs": [],
   "source": [
    "df['What matters most to you in choosing a course'].replace(np.nan,'Better Career Prospects', inplace=True)  \n",
    "\n",
    "# 29.32 null values are present in this column"
   ]
  },
  {
   "cell_type": "code",
   "execution_count": 16,
   "id": "6ea7bfa5-2a44-47e6-8121-2e88c6b90d53",
   "metadata": {},
   "outputs": [],
   "source": [
    "df['Tags'].replace(np.nan,'No Comments', inplace=True)  # 36.29 null values are present in this column"
   ]
  },
  {
   "cell_type": "code",
   "execution_count": 17,
   "id": "89e80afb-6c72-4040-b7f8-10bc432471d8",
   "metadata": {},
   "outputs": [],
   "source": [
    "df['Lead Quality'].replace(np.nan,'Not Sure', inplace=True)  # 51.59 null values are present in this column"
   ]
  },
  {
   "cell_type": "code",
   "execution_count": 18,
   "id": "6c533255-ad17-4074-976a-c725114949e9",
   "metadata": {},
   "outputs": [],
   "source": [
    "df['Lead Profile'].replace(np.nan,'Select', inplace=True)  # 29.32 null values are present in this column"
   ]
  },
  {
   "cell_type": "code",
   "execution_count": 19,
   "id": "fdbaa596-23b1-43d7-8e6b-78f6e7a9ae8e",
   "metadata": {},
   "outputs": [],
   "source": [
    "df['City'].replace(np.nan,'Select', inplace=True)  # 15.37 null values are present in this column"
   ]
  },
  {
   "cell_type": "code",
   "execution_count": 20,
   "id": "91edb466-22ff-42a2-a9d4-1f4c9280f338",
   "metadata": {},
   "outputs": [],
   "source": [
    "# while inspection I found 'Select' is the common value in most of the column thus it is good to replace all null values for every column with 'Select'"
   ]
  },
  {
   "cell_type": "code",
   "execution_count": 21,
   "id": "51899e54-6858-40a4-a92c-bdb241375ec4",
   "metadata": {},
   "outputs": [
    {
     "data": {
      "text/plain": [
       "Prospect ID                                       0.00\n",
       "Lead Number                                       0.00\n",
       "Lead Origin                                       0.00\n",
       "Lead Source                                       0.39\n",
       "Do Not Email                                      0.00\n",
       "Do Not Call                                       0.00\n",
       "Converted                                         0.00\n",
       "TotalVisits                                       1.48\n",
       "Total Time Spent on Website                       0.00\n",
       "Page Views Per Visit                              1.48\n",
       "Last Activity                                     1.11\n",
       "Country                                           0.00\n",
       "Specialization                                    0.00\n",
       "How did you hear about X Education                0.00\n",
       "What is your current occupation                   0.00\n",
       "What matters most to you in choosing a course     0.00\n",
       "Search                                            0.00\n",
       "Magazine                                          0.00\n",
       "Newspaper Article                                 0.00\n",
       "X Education Forums                                0.00\n",
       "Newspaper                                         0.00\n",
       "Digital Advertisement                             0.00\n",
       "Through Recommendations                           0.00\n",
       "Receive More Updates About Our Courses            0.00\n",
       "Tags                                              0.00\n",
       "Lead Quality                                      0.00\n",
       "Update me on Supply Chain Content                 0.00\n",
       "Get updates on DM Content                         0.00\n",
       "Lead Profile                                      0.00\n",
       "City                                              0.00\n",
       "Asymmetrique Activity Index                      45.65\n",
       "Asymmetrique Profile Index                       45.65\n",
       "Asymmetrique Activity Score                      45.65\n",
       "Asymmetrique Profile Score                       45.65\n",
       "I agree to pay the amount through cheque          0.00\n",
       "A free copy of Mastering The Interview            0.00\n",
       "Last Notable Activity                             0.00\n",
       "dtype: float64"
      ]
     },
     "execution_count": 21,
     "metadata": {},
     "output_type": "execute_result"
    }
   ],
   "source": [
    "round(df.isna().sum()/len(df)*100,2)"
   ]
  },
  {
   "cell_type": "code",
   "execution_count": 22,
   "id": "5ede6c83-6696-41e8-8785-b2f6f4160c33",
   "metadata": {},
   "outputs": [],
   "source": [
    "# Removing the columns that are no required and have 45.65% null values\n",
    "\n",
    "df1 = df.drop(['Asymmetrique Activity Index', 'Asymmetrique Profile Index','Asymmetrique Activity Score','Asymmetrique Profile Score'],axis=1)"
   ]
  },
  {
   "cell_type": "code",
   "execution_count": 23,
   "id": "24216967-3b70-4e3a-aa6f-6c817ece6eeb",
   "metadata": {},
   "outputs": [
    {
     "data": {
      "text/plain": [
       "Prospect ID                                      0.00\n",
       "Lead Number                                      0.00\n",
       "Lead Origin                                      0.00\n",
       "Lead Source                                      0.39\n",
       "Do Not Email                                     0.00\n",
       "Do Not Call                                      0.00\n",
       "Converted                                        0.00\n",
       "TotalVisits                                      1.48\n",
       "Total Time Spent on Website                      0.00\n",
       "Page Views Per Visit                             1.48\n",
       "Last Activity                                    1.11\n",
       "Country                                          0.00\n",
       "Specialization                                   0.00\n",
       "How did you hear about X Education               0.00\n",
       "What is your current occupation                  0.00\n",
       "What matters most to you in choosing a course    0.00\n",
       "Search                                           0.00\n",
       "Magazine                                         0.00\n",
       "Newspaper Article                                0.00\n",
       "X Education Forums                               0.00\n",
       "Newspaper                                        0.00\n",
       "Digital Advertisement                            0.00\n",
       "Through Recommendations                          0.00\n",
       "Receive More Updates About Our Courses           0.00\n",
       "Tags                                             0.00\n",
       "Lead Quality                                     0.00\n",
       "Update me on Supply Chain Content                0.00\n",
       "Get updates on DM Content                        0.00\n",
       "Lead Profile                                     0.00\n",
       "City                                             0.00\n",
       "I agree to pay the amount through cheque         0.00\n",
       "A free copy of Mastering The Interview           0.00\n",
       "Last Notable Activity                            0.00\n",
       "dtype: float64"
      ]
     },
     "execution_count": 23,
     "metadata": {},
     "output_type": "execute_result"
    }
   ],
   "source": [
    "round(df1.isna().sum()/len(df1)*100,2)"
   ]
  },
  {
   "cell_type": "code",
   "execution_count": 24,
   "id": "e39a62c7-6459-4175-b6ce-6bc919e33c73",
   "metadata": {},
   "outputs": [],
   "source": [
    "# Still there is some missing values are present in 4 columns so we can easily drop that rows\n",
    "df1.dropna(inplace=True)"
   ]
  },
  {
   "cell_type": "code",
   "execution_count": 25,
   "id": "f32f727e-ea14-4388-a687-146852d270ed",
   "metadata": {},
   "outputs": [
    {
     "data": {
      "text/plain": [
       "Prospect ID                                      0.0\n",
       "Lead Number                                      0.0\n",
       "Lead Origin                                      0.0\n",
       "Lead Source                                      0.0\n",
       "Do Not Email                                     0.0\n",
       "Do Not Call                                      0.0\n",
       "Converted                                        0.0\n",
       "TotalVisits                                      0.0\n",
       "Total Time Spent on Website                      0.0\n",
       "Page Views Per Visit                             0.0\n",
       "Last Activity                                    0.0\n",
       "Country                                          0.0\n",
       "Specialization                                   0.0\n",
       "How did you hear about X Education               0.0\n",
       "What is your current occupation                  0.0\n",
       "What matters most to you in choosing a course    0.0\n",
       "Search                                           0.0\n",
       "Magazine                                         0.0\n",
       "Newspaper Article                                0.0\n",
       "X Education Forums                               0.0\n",
       "Newspaper                                        0.0\n",
       "Digital Advertisement                            0.0\n",
       "Through Recommendations                          0.0\n",
       "Receive More Updates About Our Courses           0.0\n",
       "Tags                                             0.0\n",
       "Lead Quality                                     0.0\n",
       "Update me on Supply Chain Content                0.0\n",
       "Get updates on DM Content                        0.0\n",
       "Lead Profile                                     0.0\n",
       "City                                             0.0\n",
       "I agree to pay the amount through cheque         0.0\n",
       "A free copy of Mastering The Interview           0.0\n",
       "Last Notable Activity                            0.0\n",
       "dtype: float64"
      ]
     },
     "execution_count": 25,
     "metadata": {},
     "output_type": "execute_result"
    }
   ],
   "source": [
    "round(df1.isna().sum()/len(df1)*100,2)"
   ]
  },
  {
   "cell_type": "markdown",
   "id": "644a7d0f-f5bb-4aac-8c98-cf126dc580f2",
   "metadata": {},
   "source": [
    "#### Missing values are cleared"
   ]
  },
  {
   "cell_type": "markdown",
   "id": "3d324077-2535-44f4-9a67-f5efd5457b1b",
   "metadata": {},
   "source": [
    "### Visualization"
   ]
  },
  {
   "cell_type": "code",
   "execution_count": 26,
   "id": "fc1dd9a5-ab9d-406f-8d0b-30696fe04646",
   "metadata": {},
   "outputs": [
    {
     "data": {
      "image/png": "[encoded data removed]",
      "text/plain": [
       "<Figure size 500x300 with 1 Axes>"
      ]
     },
     "metadata": {},
     "output_type": "display_data"
    }
   ],
   "source": [
    "plt.figure(figsize = (5,3))\n",
    "\n",
    "sns.countplot(x='Lead Origin', data=df1)\n",
    "plt.title('Lead Origin')\n",
    "plt.show()"
   ]
  },
  {
   "cell_type": "code",
   "execution_count": 27,
   "id": "15890590-5219-4b38-81bb-d562d6140d19",
   "metadata": {
    "scrolled": true
   },
   "outputs": [
    {
     "data": {
      "image/png": "[encoded data removed]",
      "text/plain": [
       "<Figure size 2000x4000 with 12 Axes>"
      ]
     },
     "metadata": {},
     "output_type": "display_data"
    }
   ],
   "source": [
    "plt.figure(figsize = (20,40))\n",
    "\n",
    "plt.subplot(6,2,1)\n",
    "sns.countplot(x='Lead Origin', data=df1)\n",
    "plt.title('Lead Origin')\n",
    "\n",
    "plt.subplot(6,2,2)\n",
    "sns.countplot(x='Do Not Email', data=df1)\n",
    "plt.title('Do Not Email')\n",
    "\n",
    "plt.subplot(6,2,3)\n",
    "sns.countplot(x='Do Not Call', data=df1)\n",
    "plt.title('Do Not Call')\n",
    "\n",
    "plt.subplot(6,2,4)\n",
    "sns.countplot(x='Country',data=df1)\n",
    "plt.title('Country')\n",
    "\n",
    "plt.subplot(6,2,5)\n",
    "sns.countplot(x='Search', data=df1)\n",
    "plt.title('Search')\n",
    "\n",
    "plt.subplot(6,2,6)\n",
    "sns.countplot(x='Newspaper Article', data=df1)\n",
    "plt.title('Newspaper Article')\n",
    "\n",
    "plt.subplot(6,2,7)\n",
    "sns.countplot(x='X Education Forums', data=df1)\n",
    "plt.title('X Education Forums')\n",
    "\n",
    "plt.subplot(6,2,8)\n",
    "sns.countplot(x='Newspaper', data=df1)\n",
    "plt.title('Newspaper')\n",
    "\n",
    "plt.subplot(6,2,9)\n",
    "sns.countplot(x='Digital Advertisement', data=df1)\n",
    "plt.title('Digital Advertisement')\n",
    "\n",
    "plt.subplot(6,2,10)\n",
    "sns.countplot(x='Through Recommendations',data=df1)\n",
    "plt.title('Through Recommendations')\n",
    "\n",
    "plt.subplot(6,2,11)\n",
    "sns.countplot(x='A free copy of Mastering The Interview', data=df1)\n",
    "plt.title('A free copy of Mastering The Interview')\n",
    "\n",
    "plt.subplot(6,2,12)\n",
    "sns.countplot(x='Last Notable Activity', data=df1)\n",
    "plt.xticks(rotation=90)\n",
    "plt.title('Last Notable Activity')\n",
    "\n",
    "\n",
    "plt.show()"
   ]
  },
  {
   "cell_type": "markdown",
   "id": "710e44e3-dda6-47b7-985f-a04b458ae267",
   "metadata": {},
   "source": [
    "## Encoding ( Conversion of Categorical / Object columns to Numeric values"
   ]
  },
  {
   "cell_type": "code",
   "execution_count": 28,
   "id": "ea44fcf3-3439-4d70-9fa8-7f542e2cb2fc",
   "metadata": {},
   "outputs": [
    {
     "name": "stdout",
     "output_type": "stream",
     "text": [
      "<class 'pandas.core.frame.DataFrame'>\n",
      "Index: 9074 entries, 0 to 9239\n",
      "Data columns (total 33 columns):\n",
      " #   Column                                         Non-Null Count  Dtype  \n",
      "---  ------                                         --------------  -----  \n",
      " 0   Prospect ID                                    9074 non-null   object \n",
      " 1   Lead Number                                    9074 non-null   int64  \n",
      " 2   Lead Origin                                    9074 non-null   object \n",
      " 3   Lead Source                                    9074 non-null   object \n",
      " 4   Do Not Email                                   9074 non-null   object \n",
      " 5   Do Not Call                                    9074 non-null   object \n",
      " 6   Converted                                      9074 non-null   int64  \n",
      " 7   TotalVisits                                    9074 non-null   float64\n",
      " 8   Total Time Spent on Website                    9074 non-null   int64  \n",
      " 9   Page Views Per Visit                           9074 non-null   float64\n",
      " 10  Last Activity                                  9074 non-null   object \n",
      " 11  Country                                        9074 non-null   object \n",
      " 12  Specialization                                 9074 non-null   object \n",
      " 13  How did you hear about X Education             9074 non-null   object \n",
      " 14  What is your current occupation                9074 non-null   object \n",
      " 15  What matters most to you in choosing a course  9074 non-null   object \n",
      " 16  Search                                         9074 non-null   object \n",
      " 17  Magazine                                       9074 non-null   object \n",
      " 18  Newspaper Article                              9074 non-null   object \n",
      " 19  X Education Forums                             9074 non-null   object \n",
      " 20  Newspaper                                      9074 non-null   object \n",
      " 21  Digital Advertisement                          9074 non-null   object \n",
      " 22  Through Recommendations                        9074 non-null   object \n",
      " 23  Receive More Updates About Our Courses         9074 non-null   object \n",
      " 24  Tags                                           9074 non-null   object \n",
      " 25  Lead Quality                                   9074 non-null   object \n",
      " 26  Update me on Supply Chain Content              9074 non-null   object \n",
      " 27  Get updates on DM Content                      9074 non-null   object \n",
      " 28  Lead Profile                                   9074 non-null   object \n",
      " 29  City                                           9074 non-null   object \n",
      " 30  I agree to pay the amount through cheque       9074 non-null   object \n",
      " 31  A free copy of Mastering The Interview         9074 non-null   object \n",
      " 32  Last Notable Activity                          9074 non-null   object \n",
      "dtypes: float64(2), int64(3), object(28)\n",
      "memory usage: 2.4+ MB\n"
     ]
    }
   ],
   "source": [
    "# As we know datatypes for all column should be a number for creating a AI Model\n",
    "df1.info()"
   ]
  },
  {
   "cell_type": "code",
   "execution_count": 29,
   "id": "cac2b774-d0e4-4626-ab35-cb7378339ff8",
   "metadata": {},
   "outputs": [
    {
     "name": "stdout",
     "output_type": "stream",
     "text": [
      "1 : Prospect ID : 9074\n",
      "2 : Lead Number : 9074\n",
      "3 : Lead Origin : 4\n",
      "4 : Lead Source : 21\n",
      "5 : Do Not Email : 2\n",
      "6 : Do Not Call : 2\n",
      "7 : Converted : 2\n",
      "8 : TotalVisits : 41\n",
      "9 : Total Time Spent on Website : 1717\n",
      "10 : Page Views Per Visit : 114\n",
      "11 : Last Activity : 17\n",
      "12 : Country : 39\n",
      "13 : Specialization : 19\n",
      "14 : How did you hear about X Education : 10\n",
      "15 : What is your current occupation : 7\n",
      "16 : What matters most to you in choosing a course : 3\n",
      "17 : Search : 2\n",
      "18 : Magazine : 1\n",
      "19 : Newspaper Article : 2\n",
      "20 : X Education Forums : 2\n",
      "21 : Newspaper : 2\n",
      "22 : Digital Advertisement : 2\n",
      "23 : Through Recommendations : 2\n",
      "24 : Receive More Updates About Our Courses : 1\n",
      "25 : Tags : 27\n",
      "26 : Lead Quality : 5\n",
      "27 : Update me on Supply Chain Content : 1\n",
      "28 : Get updates on DM Content : 1\n",
      "29 : Lead Profile : 6\n",
      "30 : City : 7\n",
      "31 : I agree to pay the amount through cheque : 1\n",
      "32 : A free copy of Mastering The Interview : 2\n",
      "33 : Last Notable Activity : 16\n"
     ]
    }
   ],
   "source": [
    "# to know all (object and numerical both) distinct value counts of each columns\n",
    "for i, cols in enumerate(df1.columns, start=1):\n",
    "    print(i,':', cols, \":\", df1[cols].nunique())"
   ]
  },
  {
   "cell_type": "code",
   "execution_count": 30,
   "id": "e7c2cbf3-f38c-46fc-95b7-a29789fc3f46",
   "metadata": {},
   "outputs": [
    {
     "name": "stdout",
     "output_type": "stream",
     "text": [
      "Prospect ID : 9074\n",
      "Lead Origin : 4\n",
      "Lead Source : 21\n",
      "Do Not Email : 2\n",
      "Do Not Call : 2\n",
      "Last Activity : 17\n",
      "Country : 39\n",
      "Specialization : 19\n",
      "How did you hear about X Education : 10\n",
      "What is your current occupation : 7\n",
      "What matters most to you in choosing a course : 3\n",
      "Search : 2\n",
      "Magazine : 1\n",
      "Newspaper Article : 2\n",
      "X Education Forums : 2\n",
      "Newspaper : 2\n",
      "Digital Advertisement : 2\n",
      "Through Recommendations : 2\n",
      "Receive More Updates About Our Courses : 1\n",
      "Tags : 27\n",
      "Lead Quality : 5\n",
      "Update me on Supply Chain Content : 1\n",
      "Get updates on DM Content : 1\n",
      "Lead Profile : 6\n",
      "City : 7\n",
      "I agree to pay the amount through cheque : 1\n",
      "A free copy of Mastering The Interview : 2\n",
      "Last Notable Activity : 16\n"
     ]
    }
   ],
   "source": [
    "# to know distinct value counts of all object columns\n",
    "# here we can find that which type of encoding we've to be perform in which object column\n",
    "\n",
    "for cols in df1.columns:\n",
    "    if df1[cols].dtype == 'object':  # Check if column dtype is 'object'\n",
    "        print(cols, \":\", df1[cols].nunique())   # Print index, column name, and number of unique values"
   ]
  },
  {
   "cell_type": "markdown",
   "id": "2d7ae298-e35b-4d0c-b9cd-a042999d3e24",
   "metadata": {},
   "source": [
    "#### **`distinct value of 2 are good contender for binary encoding (0 and 1)`**\n",
    "#### **`distinct value of <10 are good contender for one-hot encoding or dummy variable creation`**\n",
    "#### **`distinct value of >10 are good contender for frequency encoding`**"
   ]
  },
  {
   "cell_type": "code",
   "execution_count": 31,
   "id": "42e3252f-c5c9-4b34-81aa-35b489e3b410",
   "metadata": {},
   "outputs": [],
   "source": [
    "# let's start inspecting all elegible columns for binary encoding"
   ]
  },
  {
   "cell_type": "code",
   "execution_count": 32,
   "id": "f51de26e-a62f-4f60-bea4-1fad3d6826dd",
   "metadata": {},
   "outputs": [
    {
     "data": {
      "text/plain": [
       "Do Not Email\n",
       "No     8358\n",
       "Yes     716\n",
       "Name: count, dtype: int64"
      ]
     },
     "execution_count": 32,
     "metadata": {},
     "output_type": "execute_result"
    }
   ],
   "source": [
    "df1['Do Not Email'].value_counts()"
   ]
  },
  {
   "cell_type": "code",
   "execution_count": 33,
   "id": "3d8dad23-3399-455b-a4c0-b5932d27af09",
   "metadata": {},
   "outputs": [],
   "source": [
    "# df1['Do Not Email'].replace({'No':0,'Yes':1}, inplace=True)   #Replacing 'No' with 0 and 'Yes' with 1"
   ]
  },
  {
   "cell_type": "code",
   "execution_count": 34,
   "id": "9c9c0136-14ae-4f0a-8b06-7697e752ef6c",
   "metadata": {},
   "outputs": [],
   "source": [
    "# df1['Do Not Call'].replace({'No':0,'Yes':1}, inplace=True)   #Replacing 'No' with 0 and 'Yes' with 1"
   ]
  },
  {
   "cell_type": "code",
   "execution_count": 35,
   "id": "add5a429-c30b-44b3-b911-0601d5cb07cf",
   "metadata": {},
   "outputs": [],
   "source": [
    "# df1['Search'].replace({'No':0,'Yes':1}, inplace=True)   #Replacing 'No' with 0 and 'Yes' with 1"
   ]
  },
  {
   "cell_type": "code",
   "execution_count": 36,
   "id": "df8b364b-c321-4955-9587-529475a60881",
   "metadata": {},
   "outputs": [],
   "source": [
    "# df1['Newspaper Article'].replace({'No':0,'Yes':1}, inplace=True)   #Replacing 'No' with 0 and 'Yes' with 1"
   ]
  },
  {
   "cell_type": "code",
   "execution_count": 37,
   "id": "e96416df-1c4f-43ff-aa85-4ac116721699",
   "metadata": {},
   "outputs": [],
   "source": [
    "# df1['X Education Forums'].replace({'No':0,'Yes':1}, inplace=True)   #Replacing 'No' with 0 and 'Yes' with 1"
   ]
  },
  {
   "cell_type": "code",
   "execution_count": 38,
   "id": "d177be2b-67bc-4b74-8230-0512aff0ba66",
   "metadata": {},
   "outputs": [],
   "source": [
    "# df1['Newspaper'].replace({'No':0,'Yes':1}, inplace=True)   #Replacing 'No' with 0 and 'Yes' with 1"
   ]
  },
  {
   "cell_type": "code",
   "execution_count": 39,
   "id": "3195fdf3-9919-43bb-8006-ad5f30decbd0",
   "metadata": {},
   "outputs": [],
   "source": [
    "# df1['Digital Advertisement'].replace({'No':0,'Yes':1}, inplace=True)   #Replacing 'No' with 0 and 'Yes' with 1"
   ]
  },
  {
   "cell_type": "code",
   "execution_count": 40,
   "id": "55893fd6-c278-461d-8ec9-3da399fb59b6",
   "metadata": {},
   "outputs": [],
   "source": [
    "# df1['Through Recommendations'].replace({'No':0,'Yes':1}, inplace=True)   #Replacing 'No' with 0 and 'Yes' with 1"
   ]
  },
  {
   "cell_type": "code",
   "execution_count": 41,
   "id": "a7c502ca-46bd-4fdc-b77c-12d79853ab77",
   "metadata": {},
   "outputs": [],
   "source": [
    "# df1['A free copy of Mastering The Interview'].replace({'No':0,'Yes':1}, inplace=True)   #Replacing 'No' with 0 and 'Yes' with 1"
   ]
  },
  {
   "cell_type": "code",
   "execution_count": 42,
   "id": "9750a2b4-1164-4414-9ee9-25103c16d091",
   "metadata": {},
   "outputs": [],
   "source": [
    "# Replacing 'No' with 0 and 'Yes' with 1\n",
    "\n",
    "bin = ['Do Not Email', 'Do Not Call', 'Search', 'Newspaper Article', 'X Education Forums','Newspaper','Digital Advertisement',\n",
    "       'Through Recommendations', 'A free copy of Mastering The Interview']\n",
    "\n",
    "# creating a function for binary mapping\n",
    "def binary_map(x):\n",
    "    return x.map({'No':0,'Yes':1})\n",
    "\n",
    "# Applying the function to the bin list\n",
    "df1[bin] = df1[bin].apply(binary_map)"
   ]
  },
  {
   "cell_type": "code",
   "execution_count": 43,
   "id": "bd7811b1-5d6f-43c2-a923-ab107e17f579",
   "metadata": {},
   "outputs": [
    {
     "name": "stdout",
     "output_type": "stream",
     "text": [
      "Prospect ID : 9074\n",
      "Lead Origin : 4\n",
      "Lead Source : 21\n",
      "Last Activity : 17\n",
      "Country : 39\n",
      "Specialization : 19\n",
      "How did you hear about X Education : 10\n",
      "What is your current occupation : 7\n",
      "What matters most to you in choosing a course : 3\n",
      "Magazine : 1\n",
      "Receive More Updates About Our Courses : 1\n",
      "Tags : 27\n",
      "Lead Quality : 5\n",
      "Update me on Supply Chain Content : 1\n",
      "Get updates on DM Content : 1\n",
      "Lead Profile : 6\n",
      "City : 7\n",
      "I agree to pay the amount through cheque : 1\n",
      "Last Notable Activity : 16\n"
     ]
    }
   ],
   "source": [
    "for cols in df1.columns:\n",
    "    if df1[cols].dtype == 'object':\n",
    "        print(cols, \":\", df1[cols].nunique())\n",
    "\n",
    "# distinct values of 2 have converted"
   ]
  },
  {
   "cell_type": "markdown",
   "id": "830cfc6c-58c2-4a2c-a6a2-b7ffb9ab2e75",
   "metadata": {},
   "source": [
    "#### One-Hot Encoding (Dummy Variable Creation)"
   ]
  },
  {
   "cell_type": "code",
   "execution_count": 44,
   "id": "cd18d423-6795-49a9-bd03-fd61e3e33334",
   "metadata": {},
   "outputs": [],
   "source": [
    "# As we know that count of distinct values less than 10 are applicable for dummy variable creation so now we need to encode these columns\n",
    "\n",
    "dum = pd.get_dummies(df1[['Lead Origin','What is your current occupation','What matters most to you in choosing a course',\n",
    "                         'Lead Quality','Lead Profile','City']], drop_first=True, dtype=int)\n",
    "\n",
    "# 4-1=3\n",
    "# 7-1=6\n",
    "# 3-1=2\n",
    "# 5-1=4\n",
    "# 6-1=5\n",
    "# 7-1=6\n",
    "# 26 new columns will created"
   ]
  },
  {
   "cell_type": "code",
   "execution_count": 45,
   "id": "acf08440-01db-4e96-9e58-833c4596fae0",
   "metadata": {},
   "outputs": [
    {
     "data": {
      "text/html": [
       "<div>\n",
       "<style scoped>\n",
       "    .dataframe tbody tr th:only-of-type {\n",
       "        vertical-align: middle;\n",
       "    }\n",
       "\n",
       "    .dataframe tbody tr th {\n",
       "        vertical-align: top;\n",
       "    }\n",
       "\n",
       "    .dataframe thead th {\n",
       "        text-align: right;\n",
       "    }\n",
       "</style>\n",
       "<table border=\"1\" class=\"dataframe\">\n",
       "  <thead>\n",
       "    <tr style=\"text-align: right;\">\n",
       "      <th></th>\n",
       "      <th>Lead Origin_Landing Page Submission</th>\n",
       "      <th>Lead Origin_Lead Add Form</th>\n",
       "      <th>Lead Origin_Lead Import</th>\n",
       "      <th>What is your current occupation_Housewife</th>\n",
       "      <th>What is your current occupation_Other</th>\n",
       "      <th>What is your current occupation_Select</th>\n",
       "      <th>What is your current occupation_Student</th>\n",
       "      <th>What is your current occupation_Unemployed</th>\n",
       "      <th>What is your current occupation_Working Professional</th>\n",
       "      <th>What matters most to you in choosing a course_Flexibility &amp; Convenience</th>\n",
       "      <th>...</th>\n",
       "      <th>Lead Profile_Other Leads</th>\n",
       "      <th>Lead Profile_Potential Lead</th>\n",
       "      <th>Lead Profile_Select</th>\n",
       "      <th>Lead Profile_Student of SomeSchool</th>\n",
       "      <th>City_Other Cities</th>\n",
       "      <th>City_Other Cities of Maharashtra</th>\n",
       "      <th>City_Other Metro Cities</th>\n",
       "      <th>City_Select</th>\n",
       "      <th>City_Thane &amp; Outskirts</th>\n",
       "      <th>City_Tier II Cities</th>\n",
       "    </tr>\n",
       "  </thead>\n",
       "  <tbody>\n",
       "    <tr>\n",
       "      <th>0</th>\n",
       "      <td>0</td>\n",
       "      <td>0</td>\n",
       "      <td>0</td>\n",
       "      <td>0</td>\n",
       "      <td>0</td>\n",
       "      <td>0</td>\n",
       "      <td>0</td>\n",
       "      <td>1</td>\n",
       "      <td>0</td>\n",
       "      <td>0</td>\n",
       "      <td>...</td>\n",
       "      <td>0</td>\n",
       "      <td>0</td>\n",
       "      <td>1</td>\n",
       "      <td>0</td>\n",
       "      <td>0</td>\n",
       "      <td>0</td>\n",
       "      <td>0</td>\n",
       "      <td>1</td>\n",
       "      <td>0</td>\n",
       "      <td>0</td>\n",
       "    </tr>\n",
       "    <tr>\n",
       "      <th>1</th>\n",
       "      <td>0</td>\n",
       "      <td>0</td>\n",
       "      <td>0</td>\n",
       "      <td>0</td>\n",
       "      <td>0</td>\n",
       "      <td>0</td>\n",
       "      <td>0</td>\n",
       "      <td>1</td>\n",
       "      <td>0</td>\n",
       "      <td>0</td>\n",
       "      <td>...</td>\n",
       "      <td>0</td>\n",
       "      <td>0</td>\n",
       "      <td>1</td>\n",
       "      <td>0</td>\n",
       "      <td>0</td>\n",
       "      <td>0</td>\n",
       "      <td>0</td>\n",
       "      <td>1</td>\n",
       "      <td>0</td>\n",
       "      <td>0</td>\n",
       "    </tr>\n",
       "    <tr>\n",
       "      <th>2</th>\n",
       "      <td>1</td>\n",
       "      <td>0</td>\n",
       "      <td>0</td>\n",
       "      <td>0</td>\n",
       "      <td>0</td>\n",
       "      <td>0</td>\n",
       "      <td>1</td>\n",
       "      <td>0</td>\n",
       "      <td>0</td>\n",
       "      <td>0</td>\n",
       "      <td>...</td>\n",
       "      <td>0</td>\n",
       "      <td>1</td>\n",
       "      <td>0</td>\n",
       "      <td>0</td>\n",
       "      <td>0</td>\n",
       "      <td>0</td>\n",
       "      <td>0</td>\n",
       "      <td>0</td>\n",
       "      <td>0</td>\n",
       "      <td>0</td>\n",
       "    </tr>\n",
       "    <tr>\n",
       "      <th>3</th>\n",
       "      <td>1</td>\n",
       "      <td>0</td>\n",
       "      <td>0</td>\n",
       "      <td>0</td>\n",
       "      <td>0</td>\n",
       "      <td>0</td>\n",
       "      <td>0</td>\n",
       "      <td>1</td>\n",
       "      <td>0</td>\n",
       "      <td>0</td>\n",
       "      <td>...</td>\n",
       "      <td>0</td>\n",
       "      <td>0</td>\n",
       "      <td>1</td>\n",
       "      <td>0</td>\n",
       "      <td>0</td>\n",
       "      <td>0</td>\n",
       "      <td>0</td>\n",
       "      <td>0</td>\n",
       "      <td>0</td>\n",
       "      <td>0</td>\n",
       "    </tr>\n",
       "    <tr>\n",
       "      <th>4</th>\n",
       "      <td>1</td>\n",
       "      <td>0</td>\n",
       "      <td>0</td>\n",
       "      <td>0</td>\n",
       "      <td>0</td>\n",
       "      <td>0</td>\n",
       "      <td>0</td>\n",
       "      <td>1</td>\n",
       "      <td>0</td>\n",
       "      <td>0</td>\n",
       "      <td>...</td>\n",
       "      <td>0</td>\n",
       "      <td>0</td>\n",
       "      <td>1</td>\n",
       "      <td>0</td>\n",
       "      <td>0</td>\n",
       "      <td>0</td>\n",
       "      <td>0</td>\n",
       "      <td>0</td>\n",
       "      <td>0</td>\n",
       "      <td>0</td>\n",
       "    </tr>\n",
       "    <tr>\n",
       "      <th>...</th>\n",
       "      <td>...</td>\n",
       "      <td>...</td>\n",
       "      <td>...</td>\n",
       "      <td>...</td>\n",
       "      <td>...</td>\n",
       "      <td>...</td>\n",
       "      <td>...</td>\n",
       "      <td>...</td>\n",
       "      <td>...</td>\n",
       "      <td>...</td>\n",
       "      <td>...</td>\n",
       "      <td>...</td>\n",
       "      <td>...</td>\n",
       "      <td>...</td>\n",
       "      <td>...</td>\n",
       "      <td>...</td>\n",
       "      <td>...</td>\n",
       "      <td>...</td>\n",
       "      <td>...</td>\n",
       "      <td>...</td>\n",
       "      <td>...</td>\n",
       "    </tr>\n",
       "    <tr>\n",
       "      <th>9235</th>\n",
       "      <td>1</td>\n",
       "      <td>0</td>\n",
       "      <td>0</td>\n",
       "      <td>0</td>\n",
       "      <td>0</td>\n",
       "      <td>0</td>\n",
       "      <td>0</td>\n",
       "      <td>1</td>\n",
       "      <td>0</td>\n",
       "      <td>0</td>\n",
       "      <td>...</td>\n",
       "      <td>0</td>\n",
       "      <td>1</td>\n",
       "      <td>0</td>\n",
       "      <td>0</td>\n",
       "      <td>0</td>\n",
       "      <td>0</td>\n",
       "      <td>0</td>\n",
       "      <td>0</td>\n",
       "      <td>0</td>\n",
       "      <td>0</td>\n",
       "    </tr>\n",
       "    <tr>\n",
       "      <th>9236</th>\n",
       "      <td>1</td>\n",
       "      <td>0</td>\n",
       "      <td>0</td>\n",
       "      <td>0</td>\n",
       "      <td>0</td>\n",
       "      <td>0</td>\n",
       "      <td>0</td>\n",
       "      <td>1</td>\n",
       "      <td>0</td>\n",
       "      <td>0</td>\n",
       "      <td>...</td>\n",
       "      <td>0</td>\n",
       "      <td>1</td>\n",
       "      <td>0</td>\n",
       "      <td>0</td>\n",
       "      <td>0</td>\n",
       "      <td>0</td>\n",
       "      <td>0</td>\n",
       "      <td>0</td>\n",
       "      <td>0</td>\n",
       "      <td>0</td>\n",
       "    </tr>\n",
       "    <tr>\n",
       "      <th>9237</th>\n",
       "      <td>1</td>\n",
       "      <td>0</td>\n",
       "      <td>0</td>\n",
       "      <td>0</td>\n",
       "      <td>0</td>\n",
       "      <td>0</td>\n",
       "      <td>0</td>\n",
       "      <td>1</td>\n",
       "      <td>0</td>\n",
       "      <td>0</td>\n",
       "      <td>...</td>\n",
       "      <td>0</td>\n",
       "      <td>1</td>\n",
       "      <td>0</td>\n",
       "      <td>0</td>\n",
       "      <td>0</td>\n",
       "      <td>0</td>\n",
       "      <td>0</td>\n",
       "      <td>0</td>\n",
       "      <td>0</td>\n",
       "      <td>0</td>\n",
       "    </tr>\n",
       "    <tr>\n",
       "      <th>9238</th>\n",
       "      <td>1</td>\n",
       "      <td>0</td>\n",
       "      <td>0</td>\n",
       "      <td>0</td>\n",
       "      <td>0</td>\n",
       "      <td>1</td>\n",
       "      <td>0</td>\n",
       "      <td>0</td>\n",
       "      <td>0</td>\n",
       "      <td>0</td>\n",
       "      <td>...</td>\n",
       "      <td>0</td>\n",
       "      <td>0</td>\n",
       "      <td>1</td>\n",
       "      <td>0</td>\n",
       "      <td>0</td>\n",
       "      <td>0</td>\n",
       "      <td>1</td>\n",
       "      <td>0</td>\n",
       "      <td>0</td>\n",
       "      <td>0</td>\n",
       "    </tr>\n",
       "    <tr>\n",
       "      <th>9239</th>\n",
       "      <td>1</td>\n",
       "      <td>0</td>\n",
       "      <td>0</td>\n",
       "      <td>0</td>\n",
       "      <td>0</td>\n",
       "      <td>0</td>\n",
       "      <td>0</td>\n",
       "      <td>1</td>\n",
       "      <td>0</td>\n",
       "      <td>0</td>\n",
       "      <td>...</td>\n",
       "      <td>0</td>\n",
       "      <td>1</td>\n",
       "      <td>0</td>\n",
       "      <td>0</td>\n",
       "      <td>1</td>\n",
       "      <td>0</td>\n",
       "      <td>0</td>\n",
       "      <td>0</td>\n",
       "      <td>0</td>\n",
       "      <td>0</td>\n",
       "    </tr>\n",
       "  </tbody>\n",
       "</table>\n",
       "<p>9074 rows × 26 columns</p>\n",
       "</div>"
      ],
      "text/plain": [
       "      Lead Origin_Landing Page Submission  Lead Origin_Lead Add Form  \\\n",
       "0                                       0                          0   \n",
       "1                                       0                          0   \n",
       "2                                       1                          0   \n",
       "3                                       1                          0   \n",
       "4                                       1                          0   \n",
       "...                                   ...                        ...   \n",
       "9235                                    1                          0   \n",
       "9236                                    1                          0   \n",
       "9237                                    1                          0   \n",
       "9238                                    1                          0   \n",
       "9239                                    1                          0   \n",
       "\n",
       "      Lead Origin_Lead Import  What is your current occupation_Housewife  \\\n",
       "0                           0                                          0   \n",
       "1                           0                                          0   \n",
       "2                           0                                          0   \n",
       "3                           0                                          0   \n",
       "4                           0                                          0   \n",
       "...                       ...                                        ...   \n",
       "9235                        0                                          0   \n",
       "9236                        0                                          0   \n",
       "9237                        0                                          0   \n",
       "9238                        0                                          0   \n",
       "9239                        0                                          0   \n",
       "\n",
       "      What is your current occupation_Other  \\\n",
       "0                                         0   \n",
       "1                                         0   \n",
       "2                                         0   \n",
       "3                                         0   \n",
       "4                                         0   \n",
       "...                                     ...   \n",
       "9235                                      0   \n",
       "9236                                      0   \n",
       "9237                                      0   \n",
       "9238                                      0   \n",
       "9239                                      0   \n",
       "\n",
       "      What is your current occupation_Select  \\\n",
       "0                                          0   \n",
       "1                                          0   \n",
       "2                                          0   \n",
       "3                                          0   \n",
       "4                                          0   \n",
       "...                                      ...   \n",
       "9235                                       0   \n",
       "9236                                       0   \n",
       "9237                                       0   \n",
       "9238                                       1   \n",
       "9239                                       0   \n",
       "\n",
       "      What is your current occupation_Student  \\\n",
       "0                                           0   \n",
       "1                                           0   \n",
       "2                                           1   \n",
       "3                                           0   \n",
       "4                                           0   \n",
       "...                                       ...   \n",
       "9235                                        0   \n",
       "9236                                        0   \n",
       "9237                                        0   \n",
       "9238                                        0   \n",
       "9239                                        0   \n",
       "\n",
       "      What is your current occupation_Unemployed  \\\n",
       "0                                              1   \n",
       "1                                              1   \n",
       "2                                              0   \n",
       "3                                              1   \n",
       "4                                              1   \n",
       "...                                          ...   \n",
       "9235                                           1   \n",
       "9236                                           1   \n",
       "9237                                           1   \n",
       "9238                                           0   \n",
       "9239                                           1   \n",
       "\n",
       "      What is your current occupation_Working Professional  \\\n",
       "0                                                     0      \n",
       "1                                                     0      \n",
       "2                                                     0      \n",
       "3                                                     0      \n",
       "4                                                     0      \n",
       "...                                                 ...      \n",
       "9235                                                  0      \n",
       "9236                                                  0      \n",
       "9237                                                  0      \n",
       "9238                                                  0      \n",
       "9239                                                  0      \n",
       "\n",
       "      What matters most to you in choosing a course_Flexibility & Convenience  \\\n",
       "0                                                     0                         \n",
       "1                                                     0                         \n",
       "2                                                     0                         \n",
       "3                                                     0                         \n",
       "4                                                     0                         \n",
       "...                                                 ...                         \n",
       "9235                                                  0                         \n",
       "9236                                                  0                         \n",
       "9237                                                  0                         \n",
       "9238                                                  0                         \n",
       "9239                                                  0                         \n",
       "\n",
       "      ...  Lead Profile_Other Leads  Lead Profile_Potential Lead  \\\n",
       "0     ...                         0                            0   \n",
       "1     ...                         0                            0   \n",
       "2     ...                         0                            1   \n",
       "3     ...                         0                            0   \n",
       "4     ...                         0                            0   \n",
       "...   ...                       ...                          ...   \n",
       "9235  ...                         0                            1   \n",
       "9236  ...                         0                            1   \n",
       "9237  ...                         0                            1   \n",
       "9238  ...                         0                            0   \n",
       "9239  ...                         0                            1   \n",
       "\n",
       "      Lead Profile_Select  Lead Profile_Student of SomeSchool  \\\n",
       "0                       1                                   0   \n",
       "1                       1                                   0   \n",
       "2                       0                                   0   \n",
       "3                       1                                   0   \n",
       "4                       1                                   0   \n",
       "...                   ...                                 ...   \n",
       "9235                    0                                   0   \n",
       "9236                    0                                   0   \n",
       "9237                    0                                   0   \n",
       "9238                    1                                   0   \n",
       "9239                    0                                   0   \n",
       "\n",
       "      City_Other Cities  City_Other Cities of Maharashtra  \\\n",
       "0                     0                                 0   \n",
       "1                     0                                 0   \n",
       "2                     0                                 0   \n",
       "3                     0                                 0   \n",
       "4                     0                                 0   \n",
       "...                 ...                               ...   \n",
       "9235                  0                                 0   \n",
       "9236                  0                                 0   \n",
       "9237                  0                                 0   \n",
       "9238                  0                                 0   \n",
       "9239                  1                                 0   \n",
       "\n",
       "      City_Other Metro Cities  City_Select  City_Thane & Outskirts  \\\n",
       "0                           0            1                       0   \n",
       "1                           0            1                       0   \n",
       "2                           0            0                       0   \n",
       "3                           0            0                       0   \n",
       "4                           0            0                       0   \n",
       "...                       ...          ...                     ...   \n",
       "9235                        0            0                       0   \n",
       "9236                        0            0                       0   \n",
       "9237                        0            0                       0   \n",
       "9238                        1            0                       0   \n",
       "9239                        0            0                       0   \n",
       "\n",
       "      City_Tier II Cities  \n",
       "0                       0  \n",
       "1                       0  \n",
       "2                       0  \n",
       "3                       0  \n",
       "4                       0  \n",
       "...                   ...  \n",
       "9235                    0  \n",
       "9236                    0  \n",
       "9237                    0  \n",
       "9238                    0  \n",
       "9239                    0  \n",
       "\n",
       "[9074 rows x 26 columns]"
      ]
     },
     "execution_count": 45,
     "metadata": {},
     "output_type": "execute_result"
    }
   ],
   "source": [
    "dum"
   ]
  },
  {
   "cell_type": "code",
   "execution_count": 46,
   "id": "feee8327-ccdb-43e9-8186-0bc4e7e9d70d",
   "metadata": {},
   "outputs": [],
   "source": [
    "# now concat df and newly created columns named dum to a new dataframe and call this newdf\n",
    "newdf = pd.concat([df1, dum], axis=1)"
   ]
  },
  {
   "cell_type": "code",
   "execution_count": 47,
   "id": "c58b4086-02d3-48e2-a1b9-e7cbab9875d4",
   "metadata": {},
   "outputs": [
    {
     "data": {
      "text/html": [
       "<div>\n",
       "<style scoped>\n",
       "    .dataframe tbody tr th:only-of-type {\n",
       "        vertical-align: middle;\n",
       "    }\n",
       "\n",
       "    .dataframe tbody tr th {\n",
       "        vertical-align: top;\n",
       "    }\n",
       "\n",
       "    .dataframe thead th {\n",
       "        text-align: right;\n",
       "    }\n",
       "</style>\n",
       "<table border=\"1\" class=\"dataframe\">\n",
       "  <thead>\n",
       "    <tr style=\"text-align: right;\">\n",
       "      <th></th>\n",
       "      <th>Prospect ID</th>\n",
       "      <th>Lead Number</th>\n",
       "      <th>Lead Origin</th>\n",
       "      <th>Lead Source</th>\n",
       "      <th>Do Not Email</th>\n",
       "      <th>Do Not Call</th>\n",
       "      <th>Converted</th>\n",
       "      <th>TotalVisits</th>\n",
       "      <th>Total Time Spent on Website</th>\n",
       "      <th>Page Views Per Visit</th>\n",
       "      <th>...</th>\n",
       "      <th>Lead Profile_Other Leads</th>\n",
       "      <th>Lead Profile_Potential Lead</th>\n",
       "      <th>Lead Profile_Select</th>\n",
       "      <th>Lead Profile_Student of SomeSchool</th>\n",
       "      <th>City_Other Cities</th>\n",
       "      <th>City_Other Cities of Maharashtra</th>\n",
       "      <th>City_Other Metro Cities</th>\n",
       "      <th>City_Select</th>\n",
       "      <th>City_Thane &amp; Outskirts</th>\n",
       "      <th>City_Tier II Cities</th>\n",
       "    </tr>\n",
       "  </thead>\n",
       "  <tbody>\n",
       "    <tr>\n",
       "      <th>0</th>\n",
       "      <td>7927b2df-8bba-4d29-b9a2-b6e0beafe620</td>\n",
       "      <td>660737</td>\n",
       "      <td>API</td>\n",
       "      <td>Olark Chat</td>\n",
       "      <td>0</td>\n",
       "      <td>0</td>\n",
       "      <td>0</td>\n",
       "      <td>0.0</td>\n",
       "      <td>0</td>\n",
       "      <td>0.0</td>\n",
       "      <td>...</td>\n",
       "      <td>0</td>\n",
       "      <td>0</td>\n",
       "      <td>1</td>\n",
       "      <td>0</td>\n",
       "      <td>0</td>\n",
       "      <td>0</td>\n",
       "      <td>0</td>\n",
       "      <td>1</td>\n",
       "      <td>0</td>\n",
       "      <td>0</td>\n",
       "    </tr>\n",
       "    <tr>\n",
       "      <th>1</th>\n",
       "      <td>2a272436-5132-4136-86fa-dcc88c88f482</td>\n",
       "      <td>660728</td>\n",
       "      <td>API</td>\n",
       "      <td>Organic Search</td>\n",
       "      <td>0</td>\n",
       "      <td>0</td>\n",
       "      <td>0</td>\n",
       "      <td>5.0</td>\n",
       "      <td>674</td>\n",
       "      <td>2.5</td>\n",
       "      <td>...</td>\n",
       "      <td>0</td>\n",
       "      <td>0</td>\n",
       "      <td>1</td>\n",
       "      <td>0</td>\n",
       "      <td>0</td>\n",
       "      <td>0</td>\n",
       "      <td>0</td>\n",
       "      <td>1</td>\n",
       "      <td>0</td>\n",
       "      <td>0</td>\n",
       "    </tr>\n",
       "    <tr>\n",
       "      <th>2</th>\n",
       "      <td>8cc8c611-a219-4f35-ad23-fdfd2656bd8a</td>\n",
       "      <td>660727</td>\n",
       "      <td>Landing Page Submission</td>\n",
       "      <td>Direct Traffic</td>\n",
       "      <td>0</td>\n",
       "      <td>0</td>\n",
       "      <td>1</td>\n",
       "      <td>2.0</td>\n",
       "      <td>1532</td>\n",
       "      <td>2.0</td>\n",
       "      <td>...</td>\n",
       "      <td>0</td>\n",
       "      <td>1</td>\n",
       "      <td>0</td>\n",
       "      <td>0</td>\n",
       "      <td>0</td>\n",
       "      <td>0</td>\n",
       "      <td>0</td>\n",
       "      <td>0</td>\n",
       "      <td>0</td>\n",
       "      <td>0</td>\n",
       "    </tr>\n",
       "  </tbody>\n",
       "</table>\n",
       "<p>3 rows × 59 columns</p>\n",
       "</div>"
      ],
      "text/plain": [
       "                            Prospect ID  Lead Number              Lead Origin  \\\n",
       "0  7927b2df-8bba-4d29-b9a2-b6e0beafe620       660737                      API   \n",
       "1  2a272436-5132-4136-86fa-dcc88c88f482       660728                      API   \n",
       "2  8cc8c611-a219-4f35-ad23-fdfd2656bd8a       660727  Landing Page Submission   \n",
       "\n",
       "      Lead Source  Do Not Email  Do Not Call  Converted  TotalVisits  \\\n",
       "0      Olark Chat             0            0          0          0.0   \n",
       "1  Organic Search             0            0          0          5.0   \n",
       "2  Direct Traffic             0            0          1          2.0   \n",
       "\n",
       "   Total Time Spent on Website  Page Views Per Visit  ...  \\\n",
       "0                            0                   0.0  ...   \n",
       "1                          674                   2.5  ...   \n",
       "2                         1532                   2.0  ...   \n",
       "\n",
       "  Lead Profile_Other Leads Lead Profile_Potential Lead Lead Profile_Select  \\\n",
       "0                        0                           0                   1   \n",
       "1                        0                           0                   1   \n",
       "2                        0                           1                   0   \n",
       "\n",
       "  Lead Profile_Student of SomeSchool City_Other Cities  \\\n",
       "0                                  0                 0   \n",
       "1                                  0                 0   \n",
       "2                                  0                 0   \n",
       "\n",
       "  City_Other Cities of Maharashtra  City_Other Metro Cities City_Select  \\\n",
       "0                                0                        0           1   \n",
       "1                                0                        0           1   \n",
       "2                                0                        0           0   \n",
       "\n",
       "   City_Thane & Outskirts  City_Tier II Cities  \n",
       "0                       0                    0  \n",
       "1                       0                    0  \n",
       "2                       0                    0  \n",
       "\n",
       "[3 rows x 59 columns]"
      ]
     },
     "execution_count": 47,
     "metadata": {},
     "output_type": "execute_result"
    }
   ],
   "source": [
    "newdf.head(3)"
   ]
  },
  {
   "cell_type": "code",
   "execution_count": 48,
   "id": "793039b2-557f-4a28-808a-78c98a080fde",
   "metadata": {},
   "outputs": [],
   "source": [
    "# now drop these columns because we already created dummy valiables for these columns so we don't need this\n",
    "\n",
    "newdf.drop(['Lead Origin','What is your current occupation','What matters most to you in choosing a course',\n",
    "                         'Lead Quality','Lead Profile','City'],axis=1, inplace=True)"
   ]
  },
  {
   "cell_type": "code",
   "execution_count": 49,
   "id": "bac1fe64-661a-4929-a26b-2073bce12672",
   "metadata": {},
   "outputs": [
    {
     "name": "stdout",
     "output_type": "stream",
     "text": [
      "Prospect ID : 9074\n",
      "Lead Source : 21\n",
      "Last Activity : 17\n",
      "Country : 39\n",
      "Specialization : 19\n",
      "How did you hear about X Education : 10\n",
      "Magazine : 1\n",
      "Receive More Updates About Our Courses : 1\n",
      "Tags : 27\n",
      "Update me on Supply Chain Content : 1\n",
      "Get updates on DM Content : 1\n",
      "I agree to pay the amount through cheque : 1\n",
      "Last Notable Activity : 16\n"
     ]
    }
   ],
   "source": [
    "for cols in newdf.columns:\n",
    "    if newdf[cols].dtype == 'object':\n",
    "        print(cols, \":\", newdf[cols].nunique())\n",
    "\n",
    "# columns for the dummy valiable also converted"
   ]
  },
  {
   "cell_type": "code",
   "execution_count": 50,
   "id": "5b7a688f-74b0-400e-b248-fa6f956fd447",
   "metadata": {},
   "outputs": [],
   "source": [
    "# here we don't need that columns which has only 1 distinct value so we need to drop those\n",
    "\n",
    "newdf.drop(['Magazine','Receive More Updates About Our Courses','Update me on Supply Chain Content',\n",
    "            'Get updates on DM Content','I agree to pay the amount through cheque'],axis=1, inplace=True)"
   ]
  },
  {
   "cell_type": "code",
   "execution_count": 51,
   "id": "da6108f1-82e4-434d-a636-3c2280b6134d",
   "metadata": {},
   "outputs": [
    {
     "name": "stdout",
     "output_type": "stream",
     "text": [
      "Prospect ID : 9074\n",
      "Lead Source : 21\n",
      "Last Activity : 17\n",
      "Country : 39\n",
      "Specialization : 19\n",
      "How did you hear about X Education : 10\n",
      "Tags : 27\n",
      "Last Notable Activity : 16\n"
     ]
    }
   ],
   "source": [
    "for cols in newdf.columns:\n",
    "    if newdf[cols].dtype == 'object':\n",
    "        print(cols, \":\", newdf[cols].nunique())\n",
    "\n",
    "# columns for one unique are droped"
   ]
  },
  {
   "cell_type": "code",
   "execution_count": 52,
   "id": "25eb89ef-5b09-4053-9bbf-8f3fbabe3a90",
   "metadata": {},
   "outputs": [],
   "source": [
    "# here Prospect ID isn't giving any valuable information so we can drop it too\n",
    "newdf.drop('Prospect ID',axis=1, inplace=True)"
   ]
  },
  {
   "cell_type": "code",
   "execution_count": 53,
   "id": "608cce3b-01a6-465d-a434-c1f75256fca8",
   "metadata": {},
   "outputs": [
    {
     "name": "stdout",
     "output_type": "stream",
     "text": [
      "Lead Source : 21\n",
      "Last Activity : 17\n",
      "Country : 39\n",
      "Specialization : 19\n",
      "How did you hear about X Education : 10\n",
      "Tags : 27\n",
      "Last Notable Activity : 16\n"
     ]
    }
   ],
   "source": [
    "for cols in newdf.columns:\n",
    "    if newdf[cols].dtype == 'object':\n",
    "        print(cols, \":\", newdf[cols].nunique())\n",
    "\n",
    "# missing Prospect ID"
   ]
  },
  {
   "cell_type": "code",
   "execution_count": 54,
   "id": "c3c1d7d3-ecaa-4f8d-9221-6f408ac01e9a",
   "metadata": {},
   "outputs": [],
   "source": [
    "# Lead Source : 21\n",
    "# Last Activity : 17\n",
    "# Country : 39\n",
    "# Specialization : 19\n",
    "# How did you hear about X Education : 10\n",
    "# Tags : 27\n",
    "# Last Notable Activity : 16\n",
    "\n",
    "# all these columns are applicable for frequency encoding"
   ]
  },
  {
   "cell_type": "code",
   "execution_count": 55,
   "id": "cf7ca999-eebc-432f-8876-3f19bfe5c725",
   "metadata": {},
   "outputs": [
    {
     "name": "stdout",
     "output_type": "stream",
     "text": [
      "<class 'pandas.core.frame.DataFrame'>\n",
      "Index: 9074 entries, 0 to 9239\n",
      "Data columns (total 47 columns):\n",
      " #   Column                                                                   Non-Null Count  Dtype  \n",
      "---  ------                                                                   --------------  -----  \n",
      " 0   Lead Number                                                              9074 non-null   int64  \n",
      " 1   Lead Source                                                              9074 non-null   object \n",
      " 2   Do Not Email                                                             9074 non-null   int64  \n",
      " 3   Do Not Call                                                              9074 non-null   int64  \n",
      " 4   Converted                                                                9074 non-null   int64  \n",
      " 5   TotalVisits                                                              9074 non-null   float64\n",
      " 6   Total Time Spent on Website                                              9074 non-null   int64  \n",
      " 7   Page Views Per Visit                                                     9074 non-null   float64\n",
      " 8   Last Activity                                                            9074 non-null   object \n",
      " 9   Country                                                                  9074 non-null   object \n",
      " 10  Specialization                                                           9074 non-null   object \n",
      " 11  How did you hear about X Education                                       9074 non-null   object \n",
      " 12  Search                                                                   9074 non-null   int64  \n",
      " 13  Newspaper Article                                                        9074 non-null   int64  \n",
      " 14  X Education Forums                                                       9074 non-null   int64  \n",
      " 15  Newspaper                                                                9074 non-null   int64  \n",
      " 16  Digital Advertisement                                                    9074 non-null   int64  \n",
      " 17  Through Recommendations                                                  9074 non-null   int64  \n",
      " 18  Tags                                                                     9074 non-null   object \n",
      " 19  A free copy of Mastering The Interview                                   9074 non-null   int64  \n",
      " 20  Last Notable Activity                                                    9074 non-null   object \n",
      " 21  Lead Origin_Landing Page Submission                                      9074 non-null   int32  \n",
      " 22  Lead Origin_Lead Add Form                                                9074 non-null   int32  \n",
      " 23  Lead Origin_Lead Import                                                  9074 non-null   int32  \n",
      " 24  What is your current occupation_Housewife                                9074 non-null   int32  \n",
      " 25  What is your current occupation_Other                                    9074 non-null   int32  \n",
      " 26  What is your current occupation_Select                                   9074 non-null   int32  \n",
      " 27  What is your current occupation_Student                                  9074 non-null   int32  \n",
      " 28  What is your current occupation_Unemployed                               9074 non-null   int32  \n",
      " 29  What is your current occupation_Working Professional                     9074 non-null   int32  \n",
      " 30  What matters most to you in choosing a course_Flexibility & Convenience  9074 non-null   int32  \n",
      " 31  What matters most to you in choosing a course_Other                      9074 non-null   int32  \n",
      " 32  Lead Quality_Low in Relevance                                            9074 non-null   int32  \n",
      " 33  Lead Quality_Might be                                                    9074 non-null   int32  \n",
      " 34  Lead Quality_Not Sure                                                    9074 non-null   int32  \n",
      " 35  Lead Quality_Worst                                                       9074 non-null   int32  \n",
      " 36  Lead Profile_Lateral Student                                             9074 non-null   int32  \n",
      " 37  Lead Profile_Other Leads                                                 9074 non-null   int32  \n",
      " 38  Lead Profile_Potential Lead                                              9074 non-null   int32  \n",
      " 39  Lead Profile_Select                                                      9074 non-null   int32  \n",
      " 40  Lead Profile_Student of SomeSchool                                       9074 non-null   int32  \n",
      " 41  City_Other Cities                                                        9074 non-null   int32  \n",
      " 42  City_Other Cities of Maharashtra                                         9074 non-null   int32  \n",
      " 43  City_Other Metro Cities                                                  9074 non-null   int32  \n",
      " 44  City_Select                                                              9074 non-null   int32  \n",
      " 45  City_Thane & Outskirts                                                   9074 non-null   int32  \n",
      " 46  City_Tier II Cities                                                      9074 non-null   int32  \n",
      "dtypes: float64(2), int32(26), int64(12), object(7)\n",
      "memory usage: 2.4+ MB\n"
     ]
    }
   ],
   "source": [
    "newdf.info()"
   ]
  },
  {
   "cell_type": "code",
   "execution_count": 56,
   "id": "c36097ef-86d0-462f-9d03-bc7fb4e69d96",
   "metadata": {},
   "outputs": [],
   "source": [
    "# Elegible for Frequency Encoding\n",
    "\n",
    "freq_encode = ['Lead Source','Last Activity','Country','Specialization','How did you hear about X Education','Tags','Last Notable Activity']"
   ]
  },
  {
   "cell_type": "code",
   "execution_count": 57,
   "id": "6f5631ba-c9f0-47dd-8f86-618d3babe9f5",
   "metadata": {},
   "outputs": [],
   "source": [
    "# create a function to encode\n",
    "def frequency_encoding(df, variables):\n",
    "    # Create a copy of the dataframe to avoid modifying the original data\n",
    "    df_encoded = newdf.copy()\n",
    "    \n",
    "    for var in variables:\n",
    "        # Calculate the frequency of each category\n",
    "        freq = newdf[var].value_counts(normalize=True)\n",
    "        # Map the frequency to the original column\n",
    "        df_encoded[var] = newdf[var].map(freq)\n",
    "    \n",
    "    return df_encoded"
   ]
  },
  {
   "cell_type": "code",
   "execution_count": 58,
   "id": "deb39943-a691-46ff-8191-108f36ebfd51",
   "metadata": {},
   "outputs": [],
   "source": [
    "df = frequency_encoding(newdf, freq_encode)"
   ]
  },
  {
   "cell_type": "code",
   "execution_count": 59,
   "id": "d36f26db-3344-4fa0-95d0-156ef6f7bfb6",
   "metadata": {},
   "outputs": [
    {
     "name": "stdout",
     "output_type": "stream",
     "text": [
      "<class 'pandas.core.frame.DataFrame'>\n",
      "Index: 9074 entries, 0 to 9239\n",
      "Data columns (total 47 columns):\n",
      " #   Column                                                                   Non-Null Count  Dtype  \n",
      "---  ------                                                                   --------------  -----  \n",
      " 0   Lead Number                                                              9074 non-null   int64  \n",
      " 1   Lead Source                                                              9074 non-null   float64\n",
      " 2   Do Not Email                                                             9074 non-null   int64  \n",
      " 3   Do Not Call                                                              9074 non-null   int64  \n",
      " 4   Converted                                                                9074 non-null   int64  \n",
      " 5   TotalVisits                                                              9074 non-null   float64\n",
      " 6   Total Time Spent on Website                                              9074 non-null   int64  \n",
      " 7   Page Views Per Visit                                                     9074 non-null   float64\n",
      " 8   Last Activity                                                            9074 non-null   float64\n",
      " 9   Country                                                                  9074 non-null   float64\n",
      " 10  Specialization                                                           9074 non-null   float64\n",
      " 11  How did you hear about X Education                                       9074 non-null   float64\n",
      " 12  Search                                                                   9074 non-null   int64  \n",
      " 13  Newspaper Article                                                        9074 non-null   int64  \n",
      " 14  X Education Forums                                                       9074 non-null   int64  \n",
      " 15  Newspaper                                                                9074 non-null   int64  \n",
      " 16  Digital Advertisement                                                    9074 non-null   int64  \n",
      " 17  Through Recommendations                                                  9074 non-null   int64  \n",
      " 18  Tags                                                                     9074 non-null   float64\n",
      " 19  A free copy of Mastering The Interview                                   9074 non-null   int64  \n",
      " 20  Last Notable Activity                                                    9074 non-null   float64\n",
      " 21  Lead Origin_Landing Page Submission                                      9074 non-null   int32  \n",
      " 22  Lead Origin_Lead Add Form                                                9074 non-null   int32  \n",
      " 23  Lead Origin_Lead Import                                                  9074 non-null   int32  \n",
      " 24  What is your current occupation_Housewife                                9074 non-null   int32  \n",
      " 25  What is your current occupation_Other                                    9074 non-null   int32  \n",
      " 26  What is your current occupation_Select                                   9074 non-null   int32  \n",
      " 27  What is your current occupation_Student                                  9074 non-null   int32  \n",
      " 28  What is your current occupation_Unemployed                               9074 non-null   int32  \n",
      " 29  What is your current occupation_Working Professional                     9074 non-null   int32  \n",
      " 30  What matters most to you in choosing a course_Flexibility & Convenience  9074 non-null   int32  \n",
      " 31  What matters most to you in choosing a course_Other                      9074 non-null   int32  \n",
      " 32  Lead Quality_Low in Relevance                                            9074 non-null   int32  \n",
      " 33  Lead Quality_Might be                                                    9074 non-null   int32  \n",
      " 34  Lead Quality_Not Sure                                                    9074 non-null   int32  \n",
      " 35  Lead Quality_Worst                                                       9074 non-null   int32  \n",
      " 36  Lead Profile_Lateral Student                                             9074 non-null   int32  \n",
      " 37  Lead Profile_Other Leads                                                 9074 non-null   int32  \n",
      " 38  Lead Profile_Potential Lead                                              9074 non-null   int32  \n",
      " 39  Lead Profile_Select                                                      9074 non-null   int32  \n",
      " 40  Lead Profile_Student of SomeSchool                                       9074 non-null   int32  \n",
      " 41  City_Other Cities                                                        9074 non-null   int32  \n",
      " 42  City_Other Cities of Maharashtra                                         9074 non-null   int32  \n",
      " 43  City_Other Metro Cities                                                  9074 non-null   int32  \n",
      " 44  City_Select                                                              9074 non-null   int32  \n",
      " 45  City_Thane & Outskirts                                                   9074 non-null   int32  \n",
      " 46  City_Tier II Cities                                                      9074 non-null   int32  \n",
      "dtypes: float64(9), int32(26), int64(12)\n",
      "memory usage: 2.4 MB\n"
     ]
    }
   ],
   "source": [
    "df.info()"
   ]
  },
  {
   "cell_type": "markdown",
   "id": "84e760f9-a1c4-4bf5-8f9f-801f5d95f5be",
   "metadata": {},
   "source": [
    "### Devide Dataset into dependent and independent variables"
   ]
  },
  {
   "cell_type": "code",
   "execution_count": 60,
   "id": "2042e139-d11d-485c-8285-473eaf42278e",
   "metadata": {},
   "outputs": [],
   "source": [
    "X = df.drop(\"Converted\",axis = 1)\n",
    "y  = df[[\"Converted\"]]"
   ]
  },
  {
   "cell_type": "markdown",
   "id": "cebeedfa-058a-4bef-8488-e5ba75583422",
   "metadata": {},
   "source": [
    "### train_test_split dataset"
   ]
  },
  {
   "cell_type": "code",
   "execution_count": 61,
   "id": "a26997e7-e6f9-420c-bb64-22ed175cc5ae",
   "metadata": {},
   "outputs": [],
   "source": [
    "from sklearn.model_selection import train_test_split"
   ]
  },
  {
   "cell_type": "code",
   "execution_count": 62,
   "id": "5a2e63dd-8709-46d1-b2fa-e4ff9d060832",
   "metadata": {},
   "outputs": [],
   "source": [
    "X_train, X_test, y_train, y_test = train_test_split(X, y, test_size=0.20, random_state=100)"
   ]
  },
  {
   "cell_type": "code",
   "execution_count": 63,
   "id": "f59ec12a-c48f-466f-ae7e-eaac4420849e",
   "metadata": {},
   "outputs": [
    {
     "data": {
      "text/plain": [
       "(7259, 46)"
      ]
     },
     "execution_count": 63,
     "metadata": {},
     "output_type": "execute_result"
    }
   ],
   "source": [
    "X_train.shape"
   ]
  },
  {
   "cell_type": "code",
   "execution_count": 64,
   "id": "7c49c0f5-efdb-4a9b-b4d9-43072a067c52",
   "metadata": {},
   "outputs": [
    {
     "data": {
      "text/plain": [
       "(1815, 46)"
      ]
     },
     "execution_count": 64,
     "metadata": {},
     "output_type": "execute_result"
    }
   ],
   "source": [
    "X_test.shape"
   ]
  },
  {
   "cell_type": "code",
   "execution_count": 65,
   "id": "42fa9fff-78ab-44f7-9689-3a3a86708a57",
   "metadata": {},
   "outputs": [
    {
     "data": {
      "text/plain": [
       "(7259, 1)"
      ]
     },
     "execution_count": 65,
     "metadata": {},
     "output_type": "execute_result"
    }
   ],
   "source": [
    "y_train.shape"
   ]
  },
  {
   "cell_type": "code",
   "execution_count": 66,
   "id": "c11d642c-de41-4483-9db2-0c7019d792fa",
   "metadata": {},
   "outputs": [
    {
     "data": {
      "text/plain": [
       "(1815, 1)"
      ]
     },
     "execution_count": 66,
     "metadata": {},
     "output_type": "execute_result"
    }
   ],
   "source": [
    "y_test.shape"
   ]
  },
  {
   "cell_type": "code",
   "execution_count": 67,
   "id": "af9e7438-b929-4533-895f-8b653161edb9",
   "metadata": {},
   "outputs": [],
   "source": [
    "X_train2, X_train3, X_train4 = X_train, X_train, X_train"
   ]
  },
  {
   "cell_type": "code",
   "execution_count": 68,
   "id": "0ca4fb78-e1ca-4337-8637-a03a164c8729",
   "metadata": {},
   "outputs": [],
   "source": [
    "y_train2, y_train3, y_train4 = y_train, y_train, y_train"
   ]
  },
  {
   "cell_type": "code",
   "execution_count": 69,
   "id": "a5aebf50-00fb-48dd-87f2-e2aa954d13fd",
   "metadata": {},
   "outputs": [],
   "source": [
    "X_test2, X_test3, X_test4 = X_test, X_test, X_test"
   ]
  },
  {
   "cell_type": "markdown",
   "id": "6eda192a-93ae-4fb7-b258-609650c1840d",
   "metadata": {},
   "source": [
    "### Scalling the Dataset"
   ]
  },
  {
   "cell_type": "code",
   "execution_count": 70,
   "id": "1449c37f-cbb5-4c05-b635-04b263500d97",
   "metadata": {},
   "outputs": [],
   "source": [
    "from sklearn.preprocessing import MinMaxScaler\n",
    "\n",
    "# instantiate\n",
    "scaler = MinMaxScaler()"
   ]
  },
  {
   "cell_type": "code",
   "execution_count": 71,
   "id": "5e3e43a5-d1a5-4717-8931-8f0654be4bc8",
   "metadata": {},
   "outputs": [],
   "source": [
    "X_train = scaler.fit_transform(X_train)\n",
    "X_test = scaler.fit_transform(X_test)"
   ]
  },
  {
   "cell_type": "markdown",
   "id": "606c1025-3e9d-48f9-9585-9f7b36926e3a",
   "metadata": {},
   "source": [
    "### Training the Data (with the appropriate alogorithm from the right family alogrithms)"
   ]
  },
  {
   "cell_type": "code",
   "execution_count": 72,
   "id": "89443b0c-da2a-4528-bb15-d08d1ed19af9",
   "metadata": {},
   "outputs": [],
   "source": [
    "from sklearn.neighbors import KNeighborsClassifier\n",
    "knn = KNeighborsClassifier()"
   ]
  },
  {
   "cell_type": "code",
   "execution_count": 73,
   "id": "001ca31a-dc2e-4bba-90e8-53f0727a5b16",
   "metadata": {},
   "outputs": [
    {
     "name": "stderr",
     "output_type": "stream",
     "text": [
      "C:\\Users\\Administrator\\anaconda3\\Lib\\site-packages\\sklearn\\neighbors\\_classification.py:215: DataConversionWarning: A column-vector y was passed when a 1d array was expected. Please change the shape of y to (n_samples,), for example using ravel().\n",
      "  return self._fit(X, y)\n"
     ]
    },
    {
     "data": {
      "text/html": [
       "<style>#sk-container-id-1 {color: black;background-color: white;}#sk-container-id-1 pre{padding: 0;}#sk-container-id-1 div.sk-toggleable {background-color: white;}#sk-container-id-1 label.sk-toggleable__label {cursor: pointer;display: block;width: 100%;margin-bottom: 0;padding: 0.3em;box-sizing: border-box;text-align: center;}#sk-container-id-1 label.sk-toggleable__label-arrow:before {content: \"▸\";float: left;margin-right: 0.25em;color: #696969;}#sk-container-id-1 label.sk-toggleable__label-arrow:hover:before {color: black;}#sk-container-id-1 div.sk-estimator:hover label.sk-toggleable__label-arrow:before {color: black;}#sk-container-id-1 div.sk-toggleable__content {max-height: 0;max-width: 0;overflow: hidden;text-align: left;background-color: #f0f8ff;}#sk-container-id-1 div.sk-toggleable__content pre {margin: 0.2em;color: black;border-radius: 0.25em;background-color: #f0f8ff;}#sk-container-id-1 input.sk-toggleable__control:checked~div.sk-toggleable__content {max-height: 200px;max-width: 100%;overflow: auto;}#sk-container-id-1 input.sk-toggleable__control:checked~label.sk-toggleable__label-arrow:before {content: \"▾\";}#sk-container-id-1 div.sk-estimator input.sk-toggleable__control:checked~label.sk-toggleable__label {background-color: #d4ebff;}#sk-container-id-1 div.sk-label input.sk-toggleable__control:checked~label.sk-toggleable__label {background-color: #d4ebff;}#sk-container-id-1 input.sk-hidden--visually {border: 0;clip: rect(1px 1px 1px 1px);clip: rect(1px, 1px, 1px, 1px);height: 1px;margin: -1px;overflow: hidden;padding: 0;position: absolute;width: 1px;}#sk-container-id-1 div.sk-estimator {font-family: monospace;background-color: #f0f8ff;border: 1px dotted black;border-radius: 0.25em;box-sizing: border-box;margin-bottom: 0.5em;}#sk-container-id-1 div.sk-estimator:hover {background-color: #d4ebff;}#sk-container-id-1 div.sk-parallel-item::after {content: \"\";width: 100%;border-bottom: 1px solid gray;flex-grow: 1;}#sk-container-id-1 div.sk-label:hover label.sk-toggleable__label {background-color: #d4ebff;}#sk-container-id-1 div.sk-serial::before {content: \"\";position: absolute;border-left: 1px solid gray;box-sizing: border-box;top: 0;bottom: 0;left: 50%;z-index: 0;}#sk-container-id-1 div.sk-serial {display: flex;flex-direction: column;align-items: center;background-color: white;padding-right: 0.2em;padding-left: 0.2em;position: relative;}#sk-container-id-1 div.sk-item {position: relative;z-index: 1;}#sk-container-id-1 div.sk-parallel {display: flex;align-items: stretch;justify-content: center;background-color: white;position: relative;}#sk-container-id-1 div.sk-item::before, #sk-container-id-1 div.sk-parallel-item::before {content: \"\";position: absolute;border-left: 1px solid gray;box-sizing: border-box;top: 0;bottom: 0;left: 50%;z-index: -1;}#sk-container-id-1 div.sk-parallel-item {display: flex;flex-direction: column;z-index: 1;position: relative;background-color: white;}#sk-container-id-1 div.sk-parallel-item:first-child::after {align-self: flex-end;width: 50%;}#sk-container-id-1 div.sk-parallel-item:last-child::after {align-self: flex-start;width: 50%;}#sk-container-id-1 div.sk-parallel-item:only-child::after {width: 0;}#sk-container-id-1 div.sk-dashed-wrapped {border: 1px dashed gray;margin: 0 0.4em 0.5em 0.4em;box-sizing: border-box;padding-bottom: 0.4em;background-color: white;}#sk-container-id-1 div.sk-label label {font-family: monospace;font-weight: bold;display: inline-block;line-height: 1.2em;}#sk-container-id-1 div.sk-label-container {text-align: center;}#sk-container-id-1 div.sk-container {/* jupyter's `normalize.less` sets `[hidden] { display: none; }` but bootstrap.min.css set `[hidden] { display: none !important; }` so we also need the `!important` here to be able to override the default hidden behavior on the sphinx rendered scikit-learn.org. See: https://github.com/scikit-learn/scikit-learn/issues/21755 */display: inline-block !important;position: relative;}#sk-container-id-1 div.sk-text-repr-fallback {display: none;}</style><div id=\"sk-container-id-1\" class=\"sk-top-container\"><div class=\"sk-text-repr-fallback\"><pre>KNeighborsClassifier()</pre><b>In a Jupyter environment, please rerun this cell to show the HTML representation or trust the notebook. <br />On GitHub, the HTML representation is unable to render, please try loading this page with nbviewer.org.</b></div><div class=\"sk-container\" hidden><div class=\"sk-item\"><div class=\"sk-estimator sk-toggleable\"><input class=\"sk-toggleable__control sk-hidden--visually\" id=\"sk-estimator-id-1\" type=\"checkbox\" checked><label for=\"sk-estimator-id-1\" class=\"sk-toggleable__label sk-toggleable__label-arrow\">KNeighborsClassifier</label><div class=\"sk-toggleable__content\"><pre>KNeighborsClassifier()</pre></div></div></div></div></div>"
      ],
      "text/plain": [
       "KNeighborsClassifier()"
      ]
     },
     "execution_count": 73,
     "metadata": {},
     "output_type": "execute_result"
    }
   ],
   "source": [
    "knn.fit(X_train,y_train)"
   ]
  },
  {
   "cell_type": "code",
   "execution_count": 74,
   "id": "96aa735d-58e7-4b6b-8f93-6e09385e5dc2",
   "metadata": {},
   "outputs": [],
   "source": [
    "y_pred = knn.predict(X_test)"
   ]
  },
  {
   "cell_type": "code",
   "execution_count": 75,
   "id": "b908f53b-741c-4237-8c67-37b5669dd945",
   "metadata": {},
   "outputs": [
    {
     "name": "stdout",
     "output_type": "stream",
     "text": [
      "              precision    recall  f1-score   support\n",
      "\n",
      "           0       0.88      0.91      0.90      1144\n",
      "           1       0.83      0.80      0.82       671\n",
      "\n",
      "    accuracy                           0.87      1815\n",
      "   macro avg       0.86      0.85      0.86      1815\n",
      "weighted avg       0.87      0.87      0.87      1815\n",
      "\n"
     ]
    }
   ],
   "source": [
    "# Evaluation of the final model with right metrics ( Accuracy,Precision, Recall, f1-Score,Sensitivity, Specificity)\n",
    "from sklearn.metrics import classification_report\n",
    "\n",
    "print(classification_report(y_test, y_pred))"
   ]
  },
  {
   "cell_type": "markdown",
   "id": "d6cb10fb-dd08-4766-849f-32ac6a052c9a",
   "metadata": {},
   "source": [
    "### Re iterate the whole process to get better model scores."
   ]
  },
  {
   "cell_type": "code",
   "execution_count": null,
   "id": "e08f95f5-5942-4233-b88d-27dab14aced0",
   "metadata": {},
   "outputs": [],
   "source": []
  },
  {
   "cell_type": "code",
   "execution_count": null,
   "id": "72f797f2-b84c-4137-a0b3-b31d206cd7dd",
   "metadata": {},
   "outputs": [],
   "source": []
  },
  {
   "cell_type": "markdown",
   "id": "39ad0d19-b296-4000-9c3a-16b112ab938c",
   "metadata": {},
   "source": [
    "### trying with Different hyperparameter tuning"
   ]
  },
  {
   "cell_type": "code",
   "execution_count": 76,
   "id": "a0cd8001-04d2-4d30-b69c-870aa60e164a",
   "metadata": {},
   "outputs": [],
   "source": [
    "# Ideal Value of K can be determined by Hyperparameter tuning\n",
    "# GridSearchCV to find optimal min_samples_leaf\n",
    "from sklearn.model_selection import KFold\n",
    "from sklearn.model_selection import GridSearchCV\n",
    "\n",
    "# parameters \n",
    "grid_params = { 'n_neighbors' : [5,7,9,11,13,15],\n",
    "               'weights' : ['uniform','distance'],\n",
    "               'metric' : ['minkowski','euclidean','manhattan']}"
   ]
  },
  {
   "cell_type": "code",
   "execution_count": 77,
   "id": "7ba9b9b6-6f63-443f-9445-f4d5c9f13737",
   "metadata": {},
   "outputs": [],
   "source": [
    "gs = GridSearchCV(KNeighborsClassifier(), grid_params, verbose = 1, cv=3, n_jobs = -1)"
   ]
  },
  {
   "cell_type": "code",
   "execution_count": 78,
   "id": "2f753349-d761-47e4-a482-9038e847e424",
   "metadata": {},
   "outputs": [
    {
     "name": "stdout",
     "output_type": "stream",
     "text": [
      "Fitting 3 folds for each of 36 candidates, totalling 108 fits\n"
     ]
    },
    {
     "name": "stderr",
     "output_type": "stream",
     "text": [
      "C:\\Users\\Administrator\\anaconda3\\Lib\\site-packages\\sklearn\\neighbors\\_classification.py:215: DataConversionWarning: A column-vector y was passed when a 1d array was expected. Please change the shape of y to (n_samples,), for example using ravel().\n",
      "  return self._fit(X, y)\n"
     ]
    }
   ],
   "source": [
    "# fit the model on our train set\n",
    "g_res = gs.fit(X_train, y_train)"
   ]
  },
  {
   "cell_type": "code",
   "execution_count": 79,
   "id": "7620cc7b-0497-466b-8b2d-6f1cb34653db",
   "metadata": {},
   "outputs": [
    {
     "data": {
      "text/plain": [
       "0.8994348574246352"
      ]
     },
     "execution_count": 79,
     "metadata": {},
     "output_type": "execute_result"
    }
   ],
   "source": [
    "# find the best score\n",
    "g_res.best_score_"
   ]
  },
  {
   "cell_type": "code",
   "execution_count": 80,
   "id": "b96f34a2-cee9-4e2a-a769-cf659d3454e1",
   "metadata": {},
   "outputs": [
    {
     "name": "stderr",
     "output_type": "stream",
     "text": [
      "C:\\Users\\Administrator\\anaconda3\\Lib\\site-packages\\sklearn\\neighbors\\_classification.py:215: DataConversionWarning: A column-vector y was passed when a 1d array was expected. Please change the shape of y to (n_samples,), for example using ravel().\n",
      "  return self._fit(X, y)\n"
     ]
    },
    {
     "data": {
      "text/html": [
       "<style>#sk-container-id-2 {color: black;background-color: white;}#sk-container-id-2 pre{padding: 0;}#sk-container-id-2 div.sk-toggleable {background-color: white;}#sk-container-id-2 label.sk-toggleable__label {cursor: pointer;display: block;width: 100%;margin-bottom: 0;padding: 0.3em;box-sizing: border-box;text-align: center;}#sk-container-id-2 label.sk-toggleable__label-arrow:before {content: \"▸\";float: left;margin-right: 0.25em;color: #696969;}#sk-container-id-2 label.sk-toggleable__label-arrow:hover:before {color: black;}#sk-container-id-2 div.sk-estimator:hover label.sk-toggleable__label-arrow:before {color: black;}#sk-container-id-2 div.sk-toggleable__content {max-height: 0;max-width: 0;overflow: hidden;text-align: left;background-color: #f0f8ff;}#sk-container-id-2 div.sk-toggleable__content pre {margin: 0.2em;color: black;border-radius: 0.25em;background-color: #f0f8ff;}#sk-container-id-2 input.sk-toggleable__control:checked~div.sk-toggleable__content {max-height: 200px;max-width: 100%;overflow: auto;}#sk-container-id-2 input.sk-toggleable__control:checked~label.sk-toggleable__label-arrow:before {content: \"▾\";}#sk-container-id-2 div.sk-estimator input.sk-toggleable__control:checked~label.sk-toggleable__label {background-color: #d4ebff;}#sk-container-id-2 div.sk-label input.sk-toggleable__control:checked~label.sk-toggleable__label {background-color: #d4ebff;}#sk-container-id-2 input.sk-hidden--visually {border: 0;clip: rect(1px 1px 1px 1px);clip: rect(1px, 1px, 1px, 1px);height: 1px;margin: -1px;overflow: hidden;padding: 0;position: absolute;width: 1px;}#sk-container-id-2 div.sk-estimator {font-family: monospace;background-color: #f0f8ff;border: 1px dotted black;border-radius: 0.25em;box-sizing: border-box;margin-bottom: 0.5em;}#sk-container-id-2 div.sk-estimator:hover {background-color: #d4ebff;}#sk-container-id-2 div.sk-parallel-item::after {content: \"\";width: 100%;border-bottom: 1px solid gray;flex-grow: 1;}#sk-container-id-2 div.sk-label:hover label.sk-toggleable__label {background-color: #d4ebff;}#sk-container-id-2 div.sk-serial::before {content: \"\";position: absolute;border-left: 1px solid gray;box-sizing: border-box;top: 0;bottom: 0;left: 50%;z-index: 0;}#sk-container-id-2 div.sk-serial {display: flex;flex-direction: column;align-items: center;background-color: white;padding-right: 0.2em;padding-left: 0.2em;position: relative;}#sk-container-id-2 div.sk-item {position: relative;z-index: 1;}#sk-container-id-2 div.sk-parallel {display: flex;align-items: stretch;justify-content: center;background-color: white;position: relative;}#sk-container-id-2 div.sk-item::before, #sk-container-id-2 div.sk-parallel-item::before {content: \"\";position: absolute;border-left: 1px solid gray;box-sizing: border-box;top: 0;bottom: 0;left: 50%;z-index: -1;}#sk-container-id-2 div.sk-parallel-item {display: flex;flex-direction: column;z-index: 1;position: relative;background-color: white;}#sk-container-id-2 div.sk-parallel-item:first-child::after {align-self: flex-end;width: 50%;}#sk-container-id-2 div.sk-parallel-item:last-child::after {align-self: flex-start;width: 50%;}#sk-container-id-2 div.sk-parallel-item:only-child::after {width: 0;}#sk-container-id-2 div.sk-dashed-wrapped {border: 1px dashed gray;margin: 0 0.4em 0.5em 0.4em;box-sizing: border-box;padding-bottom: 0.4em;background-color: white;}#sk-container-id-2 div.sk-label label {font-family: monospace;font-weight: bold;display: inline-block;line-height: 1.2em;}#sk-container-id-2 div.sk-label-container {text-align: center;}#sk-container-id-2 div.sk-container {/* jupyter's `normalize.less` sets `[hidden] { display: none; }` but bootstrap.min.css set `[hidden] { display: none !important; }` so we also need the `!important` here to be able to override the default hidden behavior on the sphinx rendered scikit-learn.org. See: https://github.com/scikit-learn/scikit-learn/issues/21755 */display: inline-block !important;position: relative;}#sk-container-id-2 div.sk-text-repr-fallback {display: none;}</style><div id=\"sk-container-id-2\" class=\"sk-top-container\"><div class=\"sk-text-repr-fallback\"><pre>KNeighborsClassifier(algorithm=&#x27;brute&#x27;)</pre><b>In a Jupyter environment, please rerun this cell to show the HTML representation or trust the notebook. <br />On GitHub, the HTML representation is unable to render, please try loading this page with nbviewer.org.</b></div><div class=\"sk-container\" hidden><div class=\"sk-item\"><div class=\"sk-estimator sk-toggleable\"><input class=\"sk-toggleable__control sk-hidden--visually\" id=\"sk-estimator-id-2\" type=\"checkbox\" checked><label for=\"sk-estimator-id-2\" class=\"sk-toggleable__label sk-toggleable__label-arrow\">KNeighborsClassifier</label><div class=\"sk-toggleable__content\"><pre>KNeighborsClassifier(algorithm=&#x27;brute&#x27;)</pre></div></div></div></div></div>"
      ],
      "text/plain": [
       "KNeighborsClassifier(algorithm='brute')"
      ]
     },
     "execution_count": 80,
     "metadata": {},
     "output_type": "execute_result"
    }
   ],
   "source": [
    "# use the best hyperparameters\n",
    "knn = KNeighborsClassifier(n_neighbors = 5, weights = 'uniform',algorithm = 'brute',metric = 'minkowski')\n",
    "knn.fit(X_train, y_train)"
   ]
  },
  {
   "cell_type": "code",
   "execution_count": 81,
   "id": "39a19350-62d0-4fff-8aae-970418c21e12",
   "metadata": {},
   "outputs": [],
   "source": [
    "# get a prediction\n",
    "y_hat = knn.predict(X_train) # training accuracy\n",
    "y_knn = knn.predict(X_test)  # testing accuracy"
   ]
  },
  {
   "cell_type": "code",
   "execution_count": 82,
   "id": "0a8e6e7e-8c6f-4255-baaa-b7d74580ad27",
   "metadata": {},
   "outputs": [],
   "source": [
    "from sklearn.metrics import accuracy_score"
   ]
  },
  {
   "cell_type": "code",
   "execution_count": 83,
   "id": "2a72f8e4-9d90-461f-af2c-9469e9e8f9e2",
   "metadata": {},
   "outputs": [
    {
     "name": "stdout",
     "output_type": "stream",
     "text": [
      "Training set accuracy:  0.9151398264223722\n",
      "Test set accuracy:  0.8666666666666667\n"
     ]
    }
   ],
   "source": [
    "print('Training set accuracy: ', accuracy_score(y_train, y_hat))\n",
    "print('Test set accuracy: ',accuracy_score(y_test, y_knn))"
   ]
  },
  {
   "cell_type": "code",
   "execution_count": null,
   "id": "8f0be536-e1be-4168-a55a-77a48b2ab3eb",
   "metadata": {},
   "outputs": [],
   "source": []
  },
  {
   "cell_type": "markdown",
   "id": "d4169306-b4a9-4b2e-860e-e6e85325e77b",
   "metadata": {},
   "source": [
    "### Import RFE"
   ]
  },
  {
   "cell_type": "code",
   "execution_count": 88,
   "id": "61f1d3d3-6eed-4597-b736-bdc3eb568723",
   "metadata": {},
   "outputs": [],
   "source": [
    "# Importing RFE and LinearRegression\n",
    "from sklearn.feature_selection import RFE\n",
    "from sklearn.tree import DecisionTreeClassifier"
   ]
  },
  {
   "cell_type": "code",
   "execution_count": 89,
   "id": "f94977d5-ffe6-42b1-aa52-4eafddfb562c",
   "metadata": {},
   "outputs": [],
   "source": [
    "# Instantiate and model fitting\n",
    "dt = DecisionTreeClassifier()"
   ]
  },
  {
   "cell_type": "code",
   "execution_count": 90,
   "id": "21000ba5-a9c9-47b5-9c87-b46cd5e2bdfa",
   "metadata": {},
   "outputs": [],
   "source": [
    "rfe = RFE(estimator=dt, n_features_to_select=10, step=1)           # running RFE\n",
    "rfe = rfe.fit(X_train2, y_train)"
   ]
  },
  {
   "cell_type": "code",
   "execution_count": 91,
   "id": "fa4ab7cb-4b85-48ed-ab41-73ab8c2cf1f0",
   "metadata": {},
   "outputs": [
    {
     "data": {
      "text/plain": [
       "[('Lead Number', 1),\n",
       " ('Lead Source', 3),\n",
       " ('Do Not Email', 10),\n",
       " ('Do Not Call', 22),\n",
       " ('TotalVisits', 2),\n",
       " ('Total Time Spent on Website', 1),\n",
       " ('Page Views Per Visit', 1),\n",
       " ('Last Activity', 1),\n",
       " ('Country', 16),\n",
       " ('Specialization', 1),\n",
       " ('How did you hear about X Education', 5),\n",
       " ('Search', 29),\n",
       " ('Newspaper Article', 31),\n",
       " ('X Education Forums', 21),\n",
       " ('Newspaper', 23),\n",
       " ('Digital Advertisement', 25),\n",
       " ('Through Recommendations', 34),\n",
       " ('Tags', 1),\n",
       " ('A free copy of Mastering The Interview', 7),\n",
       " ('Last Notable Activity', 1),\n",
       " ('Lead Origin_Landing Page Submission', 9),\n",
       " ('Lead Origin_Lead Add Form', 1),\n",
       " ('Lead Origin_Lead Import', 37),\n",
       " ('What is your current occupation_Housewife', 36),\n",
       " ('What is your current occupation_Other', 35),\n",
       " ('What is your current occupation_Select', 1),\n",
       " ('What is your current occupation_Student', 33),\n",
       " ('What is your current occupation_Unemployed', 15),\n",
       " ('What is your current occupation_Working Professional', 13),\n",
       " ('What matters most to you in choosing a course_Flexibility & Convenience',\n",
       "  26),\n",
       " ('What matters most to you in choosing a course_Other', 24),\n",
       " ('Lead Quality_Low in Relevance', 18),\n",
       " ('Lead Quality_Might be', 27),\n",
       " ('Lead Quality_Not Sure', 1),\n",
       " ('Lead Quality_Worst', 28),\n",
       " ('Lead Profile_Lateral Student', 30),\n",
       " ('Lead Profile_Other Leads', 19),\n",
       " ('Lead Profile_Potential Lead', 6),\n",
       " ('Lead Profile_Select', 4),\n",
       " ('Lead Profile_Student of SomeSchool', 32),\n",
       " ('City_Other Cities', 14),\n",
       " ('City_Other Cities of Maharashtra', 11),\n",
       " ('City_Other Metro Cities', 20),\n",
       " ('City_Select', 8),\n",
       " ('City_Thane & Outskirts', 12),\n",
       " ('City_Tier II Cities', 17)]"
      ]
     },
     "execution_count": 91,
     "metadata": {},
     "output_type": "execute_result"
    }
   ],
   "source": [
    "list(zip(X_train2.columns,rfe.ranking_))"
   ]
  },
  {
   "cell_type": "code",
   "execution_count": 92,
   "id": "e16fe6a4-9846-4efa-939b-cc6e8134e202",
   "metadata": {},
   "outputs": [],
   "source": [
    "col = X_train2.columns[rfe.ranking_]"
   ]
  },
  {
   "cell_type": "code",
   "execution_count": 93,
   "id": "411e8999-7f89-4ca7-aa5c-8e1641e243c3",
   "metadata": {},
   "outputs": [
    {
     "data": {
      "text/plain": [
       "Index(['Lead Source', 'Do Not Call', 'How did you hear about X Education',\n",
       "       'Lead Origin_Lead Import', 'Do Not Email', 'Lead Source', 'Lead Source',\n",
       "       'Lead Source', 'Through Recommendations', 'Lead Source',\n",
       "       'Total Time Spent on Website',\n",
       "       'What matters most to you in choosing a course_Flexibility & Convenience',\n",
       "       'Lead Quality_Low in Relevance', 'Lead Origin_Lead Add Form',\n",
       "       'What is your current occupation_Housewife',\n",
       "       'What is your current occupation_Select', 'Lead Quality_Worst',\n",
       "       'Lead Source', 'Last Activity', 'Lead Source', 'Specialization',\n",
       "       'Lead Source', 'Lead Profile_Potential Lead',\n",
       "       'Lead Profile_Other Leads', 'Lead Profile_Lateral Student',\n",
       "       'Lead Source', 'Lead Quality_Not Sure', 'Digital Advertisement',\n",
       "       'X Education Forums', 'What is your current occupation_Student',\n",
       "       'What is your current occupation_Other',\n",
       "       'A free copy of Mastering The Interview',\n",
       "       'What is your current occupation_Unemployed', 'Lead Source',\n",
       "       'What is your current occupation_Working Professional',\n",
       "       'What matters most to you in choosing a course_Other',\n",
       "       'Last Notable Activity', 'Page Views Per Visit', 'TotalVisits',\n",
       "       'Lead Quality_Might be', 'Newspaper', 'Search',\n",
       "       'Lead Origin_Landing Page Submission', 'Country', 'Newspaper Article',\n",
       "       'Tags'],\n",
       "      dtype='object')"
      ]
     },
     "execution_count": 93,
     "metadata": {},
     "output_type": "execute_result"
    }
   ],
   "source": [
    "col"
   ]
  },
  {
   "cell_type": "code",
   "execution_count": 94,
   "id": "7fdaf11b-e9a3-456f-a343-b03098318de1",
   "metadata": {},
   "outputs": [],
   "source": [
    "X_train2 = X_train2[col]"
   ]
  },
  {
   "cell_type": "code",
   "execution_count": 95,
   "id": "f6c589f3-77b1-42e5-b1b0-e5e591c23748",
   "metadata": {},
   "outputs": [],
   "source": [
    "X_test2 = X_test2[col]"
   ]
  },
  {
   "cell_type": "code",
   "execution_count": 96,
   "id": "66d8b9ef-c994-4abf-9224-7a85c4316f29",
   "metadata": {},
   "outputs": [
    {
     "data": {
      "text/plain": [
       "(7259, 46)"
      ]
     },
     "execution_count": 96,
     "metadata": {},
     "output_type": "execute_result"
    }
   ],
   "source": [
    "X_train2.shape"
   ]
  },
  {
   "cell_type": "code",
   "execution_count": 97,
   "id": "df4fd0e9-64bc-4c36-aab6-fd22986a437d",
   "metadata": {},
   "outputs": [
    {
     "data": {
      "text/plain": [
       "(1815, 46)"
      ]
     },
     "execution_count": 97,
     "metadata": {},
     "output_type": "execute_result"
    }
   ],
   "source": [
    "X_test2.shape"
   ]
  },
  {
   "cell_type": "code",
   "execution_count": 98,
   "id": "df75de73-6479-4853-b976-82f007683ae6",
   "metadata": {},
   "outputs": [
    {
     "name": "stderr",
     "output_type": "stream",
     "text": [
      "C:\\Users\\Administrator\\anaconda3\\Lib\\site-packages\\sklearn\\neighbors\\_classification.py:215: DataConversionWarning: A column-vector y was passed when a 1d array was expected. Please change the shape of y to (n_samples,), for example using ravel().\n",
      "  return self._fit(X, y)\n"
     ]
    },
    {
     "data": {
      "text/html": [
       "<style>#sk-container-id-3 {color: black;background-color: white;}#sk-container-id-3 pre{padding: 0;}#sk-container-id-3 div.sk-toggleable {background-color: white;}#sk-container-id-3 label.sk-toggleable__label {cursor: pointer;display: block;width: 100%;margin-bottom: 0;padding: 0.3em;box-sizing: border-box;text-align: center;}#sk-container-id-3 label.sk-toggleable__label-arrow:before {content: \"▸\";float: left;margin-right: 0.25em;color: #696969;}#sk-container-id-3 label.sk-toggleable__label-arrow:hover:before {color: black;}#sk-container-id-3 div.sk-estimator:hover label.sk-toggleable__label-arrow:before {color: black;}#sk-container-id-3 div.sk-toggleable__content {max-height: 0;max-width: 0;overflow: hidden;text-align: left;background-color: #f0f8ff;}#sk-container-id-3 div.sk-toggleable__content pre {margin: 0.2em;color: black;border-radius: 0.25em;background-color: #f0f8ff;}#sk-container-id-3 input.sk-toggleable__control:checked~div.sk-toggleable__content {max-height: 200px;max-width: 100%;overflow: auto;}#sk-container-id-3 input.sk-toggleable__control:checked~label.sk-toggleable__label-arrow:before {content: \"▾\";}#sk-container-id-3 div.sk-estimator input.sk-toggleable__control:checked~label.sk-toggleable__label {background-color: #d4ebff;}#sk-container-id-3 div.sk-label input.sk-toggleable__control:checked~label.sk-toggleable__label {background-color: #d4ebff;}#sk-container-id-3 input.sk-hidden--visually {border: 0;clip: rect(1px 1px 1px 1px);clip: rect(1px, 1px, 1px, 1px);height: 1px;margin: -1px;overflow: hidden;padding: 0;position: absolute;width: 1px;}#sk-container-id-3 div.sk-estimator {font-family: monospace;background-color: #f0f8ff;border: 1px dotted black;border-radius: 0.25em;box-sizing: border-box;margin-bottom: 0.5em;}#sk-container-id-3 div.sk-estimator:hover {background-color: #d4ebff;}#sk-container-id-3 div.sk-parallel-item::after {content: \"\";width: 100%;border-bottom: 1px solid gray;flex-grow: 1;}#sk-container-id-3 div.sk-label:hover label.sk-toggleable__label {background-color: #d4ebff;}#sk-container-id-3 div.sk-serial::before {content: \"\";position: absolute;border-left: 1px solid gray;box-sizing: border-box;top: 0;bottom: 0;left: 50%;z-index: 0;}#sk-container-id-3 div.sk-serial {display: flex;flex-direction: column;align-items: center;background-color: white;padding-right: 0.2em;padding-left: 0.2em;position: relative;}#sk-container-id-3 div.sk-item {position: relative;z-index: 1;}#sk-container-id-3 div.sk-parallel {display: flex;align-items: stretch;justify-content: center;background-color: white;position: relative;}#sk-container-id-3 div.sk-item::before, #sk-container-id-3 div.sk-parallel-item::before {content: \"\";position: absolute;border-left: 1px solid gray;box-sizing: border-box;top: 0;bottom: 0;left: 50%;z-index: -1;}#sk-container-id-3 div.sk-parallel-item {display: flex;flex-direction: column;z-index: 1;position: relative;background-color: white;}#sk-container-id-3 div.sk-parallel-item:first-child::after {align-self: flex-end;width: 50%;}#sk-container-id-3 div.sk-parallel-item:last-child::after {align-self: flex-start;width: 50%;}#sk-container-id-3 div.sk-parallel-item:only-child::after {width: 0;}#sk-container-id-3 div.sk-dashed-wrapped {border: 1px dashed gray;margin: 0 0.4em 0.5em 0.4em;box-sizing: border-box;padding-bottom: 0.4em;background-color: white;}#sk-container-id-3 div.sk-label label {font-family: monospace;font-weight: bold;display: inline-block;line-height: 1.2em;}#sk-container-id-3 div.sk-label-container {text-align: center;}#sk-container-id-3 div.sk-container {/* jupyter's `normalize.less` sets `[hidden] { display: none; }` but bootstrap.min.css set `[hidden] { display: none !important; }` so we also need the `!important` here to be able to override the default hidden behavior on the sphinx rendered scikit-learn.org. See: https://github.com/scikit-learn/scikit-learn/issues/21755 */display: inline-block !important;position: relative;}#sk-container-id-3 div.sk-text-repr-fallback {display: none;}</style><div id=\"sk-container-id-3\" class=\"sk-top-container\"><div class=\"sk-text-repr-fallback\"><pre>KNeighborsClassifier()</pre><b>In a Jupyter environment, please rerun this cell to show the HTML representation or trust the notebook. <br />On GitHub, the HTML representation is unable to render, please try loading this page with nbviewer.org.</b></div><div class=\"sk-container\" hidden><div class=\"sk-item\"><div class=\"sk-estimator sk-toggleable\"><input class=\"sk-toggleable__control sk-hidden--visually\" id=\"sk-estimator-id-3\" type=\"checkbox\" checked><label for=\"sk-estimator-id-3\" class=\"sk-toggleable__label sk-toggleable__label-arrow\">KNeighborsClassifier</label><div class=\"sk-toggleable__content\"><pre>KNeighborsClassifier()</pre></div></div></div></div></div>"
      ],
      "text/plain": [
       "KNeighborsClassifier()"
      ]
     },
     "execution_count": 98,
     "metadata": {},
     "output_type": "execute_result"
    }
   ],
   "source": [
    "#model Fitting\n",
    "from sklearn.neighbors import KNeighborsClassifier\n",
    "knn = KNeighborsClassifier()\n",
    "knn.fit(X_train2,y_train)"
   ]
  },
  {
   "cell_type": "code",
   "execution_count": 99,
   "id": "d2c643d1-9db6-4a56-a0ed-0d085e466d90",
   "metadata": {},
   "outputs": [],
   "source": [
    "y_pred = knn.predict(X_test2)"
   ]
  },
  {
   "cell_type": "code",
   "execution_count": 100,
   "id": "53dc9a7c-51b7-4733-9c7e-2553ede9720a",
   "metadata": {},
   "outputs": [
    {
     "name": "stdout",
     "output_type": "stream",
     "text": [
      "              precision    recall  f1-score   support\n",
      "\n",
      "           0       0.83      0.84      0.83      1144\n",
      "           1       0.72      0.70      0.71       671\n",
      "\n",
      "    accuracy                           0.79      1815\n",
      "   macro avg       0.77      0.77      0.77      1815\n",
      "weighted avg       0.79      0.79      0.79      1815\n",
      "\n"
     ]
    }
   ],
   "source": [
    "print(classification_report(y_test,y_pred))"
   ]
  },
  {
   "cell_type": "code",
   "execution_count": null,
   "id": "10516da3-5ce3-420a-b192-0bfb94e642e9",
   "metadata": {},
   "outputs": [],
   "source": []
  }
 ],
 "metadata": {
  "kernelspec": {
   "display_name": "Python 3 (ipykernel)",
   "language": "python",
   "name": "python3"
  },
  "language_info": {
   "codemirror_mode": {
    "name": "ipython",
    "version": 3
   },
   "file_extension": ".py",
   "mimetype": "text/x-python",
   "name": "python",
   "nbconvert_exporter": "python",
   "pygments_lexer": "ipython3",
   "version": "3.11.7"
  }
 },
 "nbformat": 4,
 "nbformat_minor": 5
}
